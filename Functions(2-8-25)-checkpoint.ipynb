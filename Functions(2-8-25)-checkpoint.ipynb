{
 "cells": [
  {
   "cell_type": "markdown",
   "id": "323f4199-de1c-4991-8f06-a0b99fde415c",
   "metadata": {},
   "source": [
    "# Types of User defined functions\n",
    "  ## 1.Without parameters and without return\n",
    "  ## 2.Without parameters and with return\n",
    "  ## 3.With parameters and without return\n",
    "  ## 4.With parameters and with return \n"
   ]
  },
  {
   "cell_type": "code",
   "execution_count": 3,
   "id": "07cc7cf0-183e-49b2-89fa-c202b5759ebb",
   "metadata": {},
   "outputs": [
    {
     "name": "stdout",
     "output_type": "stream",
     "text": [
      "30\n",
      "None\n"
     ]
    }
   ],
   "source": [
    "#1.Without parameters and without return-If fuction doesn't have any return value,it return by default None value.\n",
    "#function definition\n",
    "def addition():\n",
    "    a=10\n",
    "    b=20\n",
    "    print(a+b)\n",
    "#function calling\n",
    "res=addition()\n",
    "print(res)\n"
   ]
  },
  {
   "cell_type": "code",
   "execution_count": 4,
   "id": "79f1b6e7-6da6-432e-8245-02bbf3a8315e",
   "metadata": {},
   "outputs": [
    {
     "name": "stdout",
     "output_type": "stream",
     "text": [
      "30\n"
     ]
    }
   ],
   "source": [
    "#2.Without parameters and with return\n",
    "#function definition\n",
    "def addition():\n",
    "    a=10\n",
    "    b=20\n",
    "    return a+b\n",
    "#function calling\n",
    "res=addition()\n",
    "print(res)"
   ]
  },
  {
   "cell_type": "code",
   "execution_count": 1,
   "id": "e322b403-82ca-423f-88c9-4b824a8ee424",
   "metadata": {},
   "outputs": [
    {
     "name": "stdout",
     "output_type": "stream",
     "text": [
      "15\n",
      "None\n"
     ]
    }
   ],
   "source": [
    "#3.With parameters and without return\n",
    "#function definition\n",
    "def addition(a,b):\n",
    "    print(a+b)\n",
    "#function calling\n",
    "res=addition(10,5)\n",
    "print(res)\n"
   ]
  },
  {
   "cell_type": "code",
   "execution_count": 2,
   "id": "110ea589-008c-4f93-877b-a36e2319a1c9",
   "metadata": {},
   "outputs": [
    {
     "name": "stdout",
     "output_type": "stream",
     "text": [
      "35\n"
     ]
    }
   ],
   "source": [
    "#4.With parameters and with return\n",
    "#function definition\n",
    "def addition(a,b):\n",
    "    return a+b\n",
    "#function calling\n",
    "res=addition(10,25)\n",
    "print(res)"
   ]
  },
  {
   "cell_type": "code",
   "execution_count": 5,
   "id": "f9d20fdc-8afb-44a5-863a-5ff468faf6db",
   "metadata": {},
   "outputs": [
    {
     "name": "stdout",
     "output_type": "stream",
     "text": [
      "15\n"
     ]
    }
   ],
   "source": [
    "#function definition\n",
    "def addition(a,b):\n",
    "    if b<10:\n",
    "        return a+b\n",
    "    return a-b\n",
    "#function calling\n",
    "res=addition(10,5)\n",
    "print(res)"
   ]
  },
  {
   "cell_type": "markdown",
   "id": "472f1136-f4c7-4505-8ea3-367f65f4a65e",
   "metadata": {},
   "source": [
    "# Types of Arguments\n",
    " ## 1.Positional Arguments\n",
    " ## 2.Keyword Arguments\n",
    " ## 3.Default Arguments\n",
    " ## 4.Variable Length Arguments\n",
    " ## 5.Variable Keyword Arguments"
   ]
  },
  {
   "cell_type": "code",
   "execution_count": 7,
   "id": "9e78e3e9-352d-4352-86a9-e1ad44f1b6b6",
   "metadata": {},
   "outputs": [
    {
     "name": "stdout",
     "output_type": "stream",
     "text": [
      "2.0\n"
     ]
    }
   ],
   "source": [
    "#1.Positional Arguments\n",
    "#function definition\n",
    "def division(a,b):\n",
    "    if b==0:\n",
    "        return \"zero division is not possible\"\n",
    "    return a/b\n",
    "#function calling\n",
    "c,d=10,5\n",
    "res=division(c,d)\n",
    "print(res)"
   ]
  },
  {
   "cell_type": "code",
   "execution_count": 8,
   "id": "74128a81-6e40-479b-845c-7b27758d128f",
   "metadata": {},
   "outputs": [
    {
     "name": "stdout",
     "output_type": "stream",
     "text": [
      "2.0\n"
     ]
    }
   ],
   "source": [
    "#2.Keyword Arguments\n",
    "#function definition\n",
    "def division(a,b):\n",
    "    if b==0:\n",
    "        return \"zero division is not possible\"\n",
    "    return a/b\n",
    "#function calling\n",
    "c,d=10,5\n",
    "res=division(a=c,b=d)\n",
    "print(res)"
   ]
  },
  {
   "cell_type": "code",
   "execution_count": 15,
   "id": "49e4640a-c685-4f97-a66d-5c409f75118e",
   "metadata": {},
   "outputs": [
    {
     "name": "stdout",
     "output_type": "stream",
     "text": [
      "15 40 3\n"
     ]
    }
   ],
   "source": [
    "#3.Default Arguments\n",
    "#function definition\n",
    "def addition(a,b,c=0,d=0):\n",
    "    return a+b+c+d\n",
    "#function calling\n",
    "res1=addition(10,5)\n",
    "res2=addition(15,20,-3,8)\n",
    "res3=addition(1,2)\n",
    "print(res1,res2,res3)"
   ]
  },
  {
   "cell_type": "code",
   "execution_count": null,
   "id": "b8cbac11-54a4-4b0f-8c1d-d2b2b51ce2f8",
   "metadata": {},
   "outputs": [],
   "source": []
  }
 ],
 "metadata": {
  "kernelspec": {
   "display_name": "Python 3 (ipykernel)",
   "language": "python",
   "name": "python3"
  },
  "language_info": {
   "codemirror_mode": {
    "name": "ipython",
    "version": 3
   },
   "file_extension": ".py",
   "mimetype": "text/x-python",
   "name": "python",
   "nbconvert_exporter": "python",
   "pygments_lexer": "ipython3",
   "version": "3.13.5"
  }
 },
 "nbformat": 4,
 "nbformat_minor": 5
}
