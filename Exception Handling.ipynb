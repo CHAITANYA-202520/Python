{
 "cells": [
  {
   "cell_type": "code",
   "execution_count": 1,
   "id": "5b47ed4f-d9f2-4c98-82a8-86f8c8052087",
   "metadata": {},
   "outputs": [
    {
     "ename": "ZeroDivisionError",
     "evalue": "division by zero",
     "output_type": "error",
     "traceback": [
      "\u001b[31m---------------------------------------------------------------------------\u001b[39m",
      "\u001b[31mZeroDivisionError\u001b[39m                         Traceback (most recent call last)",
      "\u001b[36mCell\u001b[39m\u001b[36m \u001b[39m\u001b[32mIn[1]\u001b[39m\u001b[32m, line 1\u001b[39m\n\u001b[32m----> \u001b[39m\u001b[32m1\u001b[39m res=\u001b[32;43m10\u001b[39;49m\u001b[43m/\u001b[49m\u001b[32;43m0\u001b[39;49m\n\u001b[32m      2\u001b[39m \u001b[38;5;28mprint\u001b[39m(res)\n",
      "\u001b[31mZeroDivisionError\u001b[39m: division by zero"
     ]
    }
   ],
   "source": [
    "res=10/0\n",
    "print(res)"
   ]
  },
  {
   "cell_type": "code",
   "execution_count": 4,
   "id": "831aeed2-2755-43b2-bec3-cbc811c968ef",
   "metadata": {},
   "outputs": [
    {
     "ename": "ValueError",
     "evalue": "invalid literal for int() with base 10: 'abc'",
     "output_type": "error",
     "traceback": [
      "\u001b[31m---------------------------------------------------------------------------\u001b[39m",
      "\u001b[31mValueError\u001b[39m                                Traceback (most recent call last)",
      "\u001b[36mCell\u001b[39m\u001b[36m \u001b[39m\u001b[32mIn[4]\u001b[39m\u001b[32m, line 1\u001b[39m\n\u001b[32m----> \u001b[39m\u001b[32m1\u001b[39m res=\u001b[38;5;28;43mint\u001b[39;49m\u001b[43m(\u001b[49m\u001b[33;43m'\u001b[39;49m\u001b[33;43mabc\u001b[39;49m\u001b[33;43m'\u001b[39;49m\u001b[43m)\u001b[49m\n\u001b[32m      2\u001b[39m \u001b[38;5;28mprint\u001b[39m(res)\n",
      "\u001b[31mValueError\u001b[39m: invalid literal for int() with base 10: 'abc'"
     ]
    }
   ],
   "source": [
    "res=int('abc')\n",
    "print(res)"
   ]
  },
  {
   "cell_type": "code",
   "execution_count": 3,
   "id": "d86e9753-2452-4674-bac7-97af551ebc14",
   "metadata": {},
   "outputs": [
    {
     "ename": "_IncompleteInputError",
     "evalue": "incomplete input (3871997710.py, line 1)",
     "output_type": "error",
     "traceback": [
      "  \u001b[36mCell\u001b[39m\u001b[36m \u001b[39m\u001b[32mIn[3]\u001b[39m\u001b[32m, line 1\u001b[39m\n\u001b[31m    \u001b[39m\u001b[31mprint('hello'\u001b[39m\n                 ^\n\u001b[31m_IncompleteInputError\u001b[39m\u001b[31m:\u001b[39m incomplete input\n"
     ]
    }
   ],
   "source": [
    "print('hello'"
   ]
  },
  {
   "cell_type": "code",
   "execution_count": 23,
   "id": "e9770e20-3f8f-42a3-9750-d44f7f66ecba",
   "metadata": {},
   "outputs": [
    {
     "ename": "NameError",
     "evalue": "name 'exception' is not defined",
     "output_type": "error",
     "traceback": [
      "\u001b[31m---------------------------------------------------------------------------\u001b[39m",
      "\u001b[31mIndexError\u001b[39m                                Traceback (most recent call last)",
      "\u001b[36mCell\u001b[39m\u001b[36m \u001b[39m\u001b[32mIn[23]\u001b[39m\u001b[32m, line 3\u001b[39m\n\u001b[32m      2\u001b[39m l=[\u001b[32m0\u001b[39m,\u001b[32m1\u001b[39m,\u001b[32m3\u001b[39m,\u001b[32m10\u001b[39m]\n\u001b[32m----> \u001b[39m\u001b[32m3\u001b[39m res=\u001b[43ml\u001b[49m\u001b[43m[\u001b[49m\u001b[32;43m5\u001b[39;49m\u001b[43m]\u001b[49m\n\u001b[32m      4\u001b[39m \u001b[38;5;28mprint\u001b[39m(res)\n",
      "\u001b[31mIndexError\u001b[39m: list index out of range",
      "\nDuring handling of the above exception, another exception occurred:\n",
      "\u001b[31mNameError\u001b[39m                                 Traceback (most recent call last)",
      "\u001b[36mCell\u001b[39m\u001b[36m \u001b[39m\u001b[32mIn[23]\u001b[39m\u001b[32m, line 7\u001b[39m\n\u001b[32m      4\u001b[39m     \u001b[38;5;28mprint\u001b[39m(res)\n\u001b[32m      5\u001b[39m \u001b[38;5;66;03m# except as e:\u001b[39;00m\n\u001b[32m      6\u001b[39m \u001b[38;5;66;03m#     print('error in code',e)\u001b[39;00m\n\u001b[32m----> \u001b[39m\u001b[32m7\u001b[39m \u001b[38;5;28;01mexcept\u001b[39;00m \u001b[43mexception\u001b[49m  \u001b[38;5;28;01mas\u001b[39;00m e:\n\u001b[32m      8\u001b[39m     \u001b[38;5;28mprint\u001b[39m(\u001b[33m'\u001b[39m\u001b[33mException as\u001b[39m\u001b[33m'\u001b[39m,e)\n",
      "\u001b[31mNameError\u001b[39m: name 'exception' is not defined"
     ]
    }
   ],
   "source": [
    "try:\n",
    "    l=[0,1,3,10]\n",
    "    res=l[5]\n",
    "    print(res)\n",
    "# except as e:\n",
    "#     print('error in code',e)\n",
    "except exception  as e:\n",
    "    print('Exception as',e)"
   ]
  },
  {
   "cell_type": "code",
   "execution_count": 19,
   "id": "ce2c8107-43ad-46ca-bfc4-2571dd10f437",
   "metadata": {},
   "outputs": [
    {
     "ename": "AttributeError",
     "evalue": "'int' object has no attribute 'append'",
     "output_type": "error",
     "traceback": [
      "\u001b[31m---------------------------------------------------------------------------\u001b[39m",
      "\u001b[31mAttributeError\u001b[39m                            Traceback (most recent call last)",
      "\u001b[36mCell\u001b[39m\u001b[36m \u001b[39m\u001b[32mIn[19]\u001b[39m\u001b[32m, line 2\u001b[39m\n\u001b[32m      1\u001b[39m x=\u001b[32m10\u001b[39m\n\u001b[32m----> \u001b[39m\u001b[32m2\u001b[39m \u001b[43mx\u001b[49m\u001b[43m.\u001b[49m\u001b[43mappend\u001b[49m(\u001b[32m20\u001b[39m)\n",
      "\u001b[31mAttributeError\u001b[39m: 'int' object has no attribute 'append'"
     ]
    }
   ],
   "source": [
    "x=10\n",
    "x.append(20)"
   ]
  },
  {
   "cell_type": "code",
   "execution_count": 26,
   "id": "c5aefe6c-f2a5-45c7-894a-11b031c35f2c",
   "metadata": {},
   "outputs": [
    {
     "name": "stdout",
     "output_type": "stream",
     "text": [
      "age cannot be -Ve\n"
     ]
    }
   ],
   "source": [
    "class AgeError(Exception):\n",
    "    pass\n",
    "def check_age(age):\n",
    "    if age<0:\n",
    "        raise AgeError('age cannot be -Ve')\n",
    "    else:\n",
    "        print('The age is:',age)\n",
    "try:\n",
    "    check_age(-5)\n",
    "except AgeError as e:\n",
    "        print(e)"
   ]
  },
  {
   "cell_type": "code",
   "execution_count": 30,
   "id": "2a6da3b2-98b2-4f5e-92b0-f4f16104f512",
   "metadata": {},
   "outputs": [
    {
     "name": "stdout",
     "output_type": "stream",
     "text": [
      "age cannot be -Ve\n"
     ]
    }
   ],
   "source": [
    "#custom exception\n",
    "class AgeError(Exception):\n",
    "    pass\n",
    "def check_age(age):\n",
    "    if age<0:\n",
    "        raise AgeError(\"age cannot be -Ve\")\n",
    "    else:\n",
    "        print(\"The age is:\",age)\n",
    "try:\n",
    "    check_age(-5)\n",
    "except AgeError as e:\n",
    "    print(e)\n",
    "    "
   ]
  },
  {
   "cell_type": "code",
   "execution_count": 31,
   "id": "e660a580-51af-4687-bb9d-f2756f47c97b",
   "metadata": {},
   "outputs": [
    {
     "ename": "ZeroDivisionError",
     "evalue": "division by zero",
     "output_type": "error",
     "traceback": [
      "\u001b[31m---------------------------------------------------------------------------\u001b[39m",
      "\u001b[31mZeroDivisionError\u001b[39m                         Traceback (most recent call last)",
      "\u001b[36mCell\u001b[39m\u001b[36m \u001b[39m\u001b[32mIn[31]\u001b[39m\u001b[32m, line 1\u001b[39m\n\u001b[32m----> \u001b[39m\u001b[32m1\u001b[39m res=\u001b[32;43m10\u001b[39;49m\u001b[43m/\u001b[49m\u001b[32;43m0\u001b[39;49m\n\u001b[32m      2\u001b[39m \u001b[38;5;28mprint\u001b[39m(res)\n",
      "\u001b[31mZeroDivisionError\u001b[39m: division by zero"
     ]
    }
   ],
   "source": [
    "res=10/0\n",
    "print(res)"
   ]
  },
  {
   "cell_type": "code",
   "execution_count": 32,
   "id": "73304025-f794-496e-a304-6c3db630ab7c",
   "metadata": {},
   "outputs": [
    {
     "ename": "ValueError",
     "evalue": "invalid literal for int() with base 10: 'abc'",
     "output_type": "error",
     "traceback": [
      "\u001b[31m---------------------------------------------------------------------------\u001b[39m",
      "\u001b[31mValueError\u001b[39m                                Traceback (most recent call last)",
      "\u001b[36mCell\u001b[39m\u001b[36m \u001b[39m\u001b[32mIn[32]\u001b[39m\u001b[32m, line 1\u001b[39m\n\u001b[32m----> \u001b[39m\u001b[32m1\u001b[39m res=\u001b[38;5;28;43mint\u001b[39;49m\u001b[43m(\u001b[49m\u001b[33;43m'\u001b[39;49m\u001b[33;43mabc\u001b[39;49m\u001b[33;43m'\u001b[39;49m\u001b[43m)\u001b[49m\n\u001b[32m      2\u001b[39m \u001b[38;5;28mprint\u001b[39m(res)\n",
      "\u001b[31mValueError\u001b[39m: invalid literal for int() with base 10: 'abc'"
     ]
    }
   ],
   "source": [
    "res=int('abc')\n",
    "print(res)"
   ]
  },
  {
   "cell_type": "code",
   "execution_count": 34,
   "id": "49ae663d-db10-4256-9845-cc8fb6b609a4",
   "metadata": {},
   "outputs": [
    {
     "name": "stdout",
     "output_type": "stream",
     "text": [
      "Error in code invalid literal for int() with base 10: 'abc'\n"
     ]
    }
   ],
   "source": [
    "try:\n",
    "    res=int('abc')\n",
    "    print(res)\n",
    "except Exception as e:\n",
    "    print('Error in code',e)"
   ]
  },
  {
   "cell_type": "code",
   "execution_count": 35,
   "id": "d6a9ad45-db6a-449a-86e9-c6b45565a016",
   "metadata": {},
   "outputs": [
    {
     "name": "stdout",
     "output_type": "stream",
     "text": [
      "Error in code invalid literal for int() with base 10: 'abc'\n"
     ]
    }
   ],
   "source": [
    "try:\n",
    "    res=int('abc')\n",
    "    print(res)\n",
    "except ValueError as e:\n",
    "    print('Error in code',e)\n",
    "    "
   ]
  },
  {
   "cell_type": "code",
   "execution_count": 40,
   "id": "d29b5ed1-9495-4c8c-8f67-7d66a99c6e0e",
   "metadata": {},
   "outputs": [
    {
     "name": "stdout",
     "output_type": "stream",
     "text": [
      "Exception is list index out of range\n"
     ]
    }
   ],
   "source": [
    "l=[0,1,3,10]\n",
    "try:\n",
    "    res=l[5]\n",
    "    print(res)\n",
    "except ValueError as e:\n",
    "    print('Error in code',e)\n",
    "except ZeroDivisionError as e:\n",
    "    print('Exception as',e)\n",
    "except Exception as e:\n",
    "    print('Exception is',e)\n",
    "else:\n",
    "    print(\"Program Done\")\n"
   ]
  },
  {
   "cell_type": "code",
   "execution_count": 39,
   "id": "14ddc17d-7959-43fb-9447-3c75a55c0ac7",
   "metadata": {},
   "outputs": [
    {
     "name": "stdout",
     "output_type": "stream",
     "text": [
      "3\n",
      "Program Done\n"
     ]
    }
   ],
   "source": [
    "l=[0,1,3,10]\n",
    "try:\n",
    "    res=l[2]\n",
    "    print(res)\n",
    "except ValueError as e:\n",
    "    print('Error in code',e)\n",
    "except ZeroDivisionError as e:\n",
    "    print('Exception as',e)\n",
    "except Exception as e:\n",
    "    print('Exception is',e)\n",
    "else:\n",
    "    print(\"Program Done\")\n"
   ]
  },
  {
   "cell_type": "code",
   "execution_count": 41,
   "id": "ed8241c3-bff9-4fad-91b2-1ad93af96417",
   "metadata": {},
   "outputs": [
    {
     "name": "stdout",
     "output_type": "stream",
     "text": [
      "3\n",
      "Program Done\n",
      "Correct code\n"
     ]
    }
   ],
   "source": [
    "l=[0,1,3,10]\n",
    "try:\n",
    "    res=l[2]\n",
    "    print(res)\n",
    "except ValueError as e:\n",
    "    print('Error in code',e)\n",
    "except ZeroDivisionError as e:\n",
    "    print('Exception as',e)\n",
    "except Exception as e:\n",
    "    print('Exception is',e)\n",
    "else:\n",
    "    print(\"Program Done\")\n",
    "finally:\n",
    "    print(\"Correct code\")"
   ]
  },
  {
   "cell_type": "code",
   "execution_count": 43,
   "id": "b8f0ad32-b2ac-4a90-a9ea-0dc4f0868272",
   "metadata": {},
   "outputs": [
    {
     "name": "stdout",
     "output_type": "stream",
     "text": [
      "'int' object has no attribute 'append'\n"
     ]
    }
   ],
   "source": [
    "try:\n",
    "    x=10\n",
    "    x.append(8)\n",
    "except Exception as e:\n",
    "    print(e)"
   ]
  }
 ],
 "metadata": {
  "kernelspec": {
   "display_name": "Python 3 (ipykernel)",
   "language": "python",
   "name": "python3"
  },
  "language_info": {
   "codemirror_mode": {
    "name": "ipython",
    "version": 3
   },
   "file_extension": ".py",
   "mimetype": "text/x-python",
   "name": "python",
   "nbconvert_exporter": "python",
   "pygments_lexer": "ipython3",
   "version": "3.13.5"
  }
 },
 "nbformat": 4,
 "nbformat_minor": 5
}
