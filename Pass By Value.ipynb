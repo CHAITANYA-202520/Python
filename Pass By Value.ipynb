{
 "cells": [
  {
   "cell_type": "code",
   "execution_count": 9,
   "id": "2f17d712-1311-488b-bd0c-f6e143c88aba",
   "metadata": {},
   "outputs": [
    {
     "name": "stdout",
     "output_type": "stream",
     "text": [
      "[6, 5, 4, 3, 2, 1]\n"
     ]
    }
   ],
   "source": [
    "#reverse a list without using methods and functions\n",
    "def reverse(l):\n",
    "    a=[]\n",
    "    for i in range(len(l)-1,-1,-1):\n",
    "        a.append(l[i])\n",
    "    return a\n",
    "l=[1,2,3,4,5,6]\n",
    "res=reverse(l)\n",
    "print(res)\n"
   ]
  },
  {
   "cell_type": "code",
   "execution_count": 21,
   "id": "63aae435-2226-4cf1-b2ec-08dd061fe353",
   "metadata": {},
   "outputs": [
    {
     "name": "stdout",
     "output_type": "stream",
     "text": [
      "888888\n"
     ]
    }
   ],
   "source": [
    "#largest element in the list\n",
    "def largest(l):\n",
    "    ele=l[0]\n",
    "    for i in range(len(l)):\n",
    "        if ele<l[i]:\n",
    "            ele=l[i]\n",
    "    c=ele\n",
    "l=[12, 222, 555, 888888]\n",
    "res=largest(l)\n",
    "print(res)\n",
    "    "
   ]
  },
  {
   "cell_type": "code",
   "execution_count": 22,
   "id": "5f459a5d-e866-4f89-8efb-86bde5912418",
   "metadata": {},
   "outputs": [
    {
     "name": "stdout",
     "output_type": "stream",
     "text": [
      "12\n"
     ]
    }
   ],
   "source": [
    "#smallest element in the list\n",
    "def smallest(l):\n",
    "    ele=l[0]\n",
    "    for i in range(len(l)):\n",
    "        if ele>l[i]:\n",
    "            ele=l[i]\n",
    "    return ele\n",
    "l=[12, 222, 555, 888888]\n",
    "print(smallest(l))\n",
    "    "
   ]
  },
  {
   "cell_type": "markdown",
   "id": "9a89531a-a3f2-4382-a6a8-d0024b6feb09",
   "metadata": {},
   "source": [
    "# Pass by Value- \n",
    "- The function calling taking inputs are transferred to function definition parameters.In function definition it creates a local variable after the function execution input values are not modified.Those values we can call it as \"Pass By Value\"\n",
    "- Immutable data types(strings,tuple,integer,float) are act as pass by value"
   ]
  },
  {
   "cell_type": "code",
   "execution_count": null,
   "id": "13dc237e-855f-4483-b19a-b4cab25ae075",
   "metadata": {},
   "outputs": [],
   "source": [
    "def add(x):\n",
    "    x=x+5\n",
    "    return x\n",
    "a=5\n",
    "res=add(a)\n",
    "print(res)\n",
    "print(a)"
   ]
  },
  {
   "cell_type": "markdown",
   "id": "488b62db-d758-46d5-a513-6bedf4d57a0e",
   "metadata": {},
   "source": [
    "# Pass by reference \n",
    "- The function calling taking input values memory address after the function execution.The input values are updating wih memory location .Those type of input values we can call it as \"Pass by reference\"\n",
    "- Mutable data types(list,set,dictionary) are act as pass by reference"
   ]
  },
  {
   "cell_type": "code",
   "execution_count": 6,
   "id": "ff2ce71e-ab4a-4683-be52-8a5767323735",
   "metadata": {},
   "outputs": [
    {
     "name": "stdout",
     "output_type": "stream",
     "text": [
      "[1, 2, 3]\n",
      "[1, 2, 3, 30]\n"
     ]
    }
   ],
   "source": [
    "def add_ele(l,ele):\n",
    "    l.append(ele)\n",
    "    return l\n",
    "l=[1,2,3]\n",
    "ele=30\n",
    "print(l)\n",
    "add_ele(l,ele)\n",
    "print(l)"
   ]
  },
  {
   "cell_type": "code",
   "execution_count": null,
   "id": "00cd993c-c57f-48a7-a88a-5da6335f2f68",
   "metadata": {},
   "outputs": [],
   "source": []
  }
 ],
 "metadata": {
  "kernelspec": {
   "display_name": "Python 3 (ipykernel)",
   "language": "python",
   "name": "python3"
  },
  "language_info": {
   "codemirror_mode": {
    "name": "ipython",
    "version": 3
   },
   "file_extension": ".py",
   "mimetype": "text/x-python",
   "name": "python",
   "nbconvert_exporter": "python",
   "pygments_lexer": "ipython3",
   "version": "3.13.5"
  }
 },
 "nbformat": 4,
 "nbformat_minor": 5
}
