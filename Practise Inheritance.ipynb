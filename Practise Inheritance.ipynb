{
 "cells": [
  {
   "cell_type": "markdown",
   "id": "28e055fa-5cae-4546-9333-5dd0ef17dc7b",
   "metadata": {},
   "source": [
    "## Types of Inheritance\n",
    "# 1.Single Inheritance"
   ]
  },
  {
   "cell_type": "code",
   "execution_count": 3,
   "id": "f17c20a0-48d0-4b39-a746-aa2369750164",
   "metadata": {},
   "outputs": [
    {
     "name": "stdout",
     "output_type": "stream",
     "text": [
      "Name is Chaitanya and age is 12 years old\n",
      "Name is Sai and age is 22 years old\n"
     ]
    }
   ],
   "source": [
    "#without child class implementation\n",
    "class Parent:\n",
    "    def __init__(self,name,age):\n",
    "        self.name=name\n",
    "        self.age=age\n",
    "    # method creation\n",
    "    def show(self):\n",
    "        return f\"Name is {self.name} and age is {self.age} years old\"\n",
    "class Child(Parent):\n",
    "        pass\n",
    "p=Parent(\"Chaitanya\",12)\n",
    "c=Child(\"Sai\",22)\n",
    "print(p.show())\n",
    "print(c.show())"
   ]
  },
  {
   "cell_type": "code",
   "execution_count": 8,
   "id": "bf17bc64-df93-411a-a8a1-587f38df925d",
   "metadata": {},
   "outputs": [
    {
     "name": "stdout",
     "output_type": "stream",
     "text": [
      "Name is Chaitanya and age is 12 years old\n",
      "Name is Sai and age is 22 years old\n",
      "Name is Sai,age is 22 and roll number is 123\n"
     ]
    }
   ],
   "source": [
    "class Parent:\n",
    "    def __init__(self,name,age):\n",
    "        self.name=name\n",
    "        self.age=age\n",
    "    # method creation\n",
    "    def show(self):\n",
    "        return f\"Name is {self.name} and age is {self.age} years old\"\n",
    "class Child(Parent):\n",
    "    def __init__(self,name,age,roll_no):\n",
    "        super().__init__(name,age)\n",
    "        self.roll_no=roll_no\n",
    "    #metod creation\n",
    "    def show(self):\n",
    "        print(super().show())\n",
    "        return f\"Name is {self.name},age is {self.age} and roll number is {self.roll_no}\" \n",
    "    \n",
    "p=Parent(\"Chaitanya\",12)\n",
    "c=Child(\"Sai\",22,123)\n",
    "print(p.show())\n",
    "print(c.show())"
   ]
  },
  {
   "cell_type": "code",
   "execution_count": 13,
   "id": "d527ce7f-98fd-4cac-be25-fa3a16f8e01e",
   "metadata": {},
   "outputs": [
    {
     "name": "stdout",
     "output_type": "stream",
     "text": [
      "Name is Chaitanya and age is 12\n",
      "Name is Sai and age is 22\n",
      "Name is Sai,age is 22 and roll number is 123\n",
      "Name is Manohar and age is 23\n",
      "Name is Manohar,age is 23 and roll number is 1234\n",
      "Name is Manohar,age is 23,roll number is 1234 and salary is 50000\n"
     ]
    }
   ],
   "source": [
    "# 2.Multilevel inheritance\n",
    "class Parent:\n",
    "    def __init__(self,name,age):\n",
    "        self.name=name\n",
    "        self.age=age\n",
    "    #method creation\n",
    "    def show(self):\n",
    "        return f\"Name is {self.name} and age is {self.age}\"\n",
    "class Student(Parent):\n",
    "    def __init__(self,name,age,roll_no):\n",
    "        super().__init__(name,age)\n",
    "        self.roll_no=roll_no\n",
    "    #method creation\n",
    "    def show(self):\n",
    "        print(super().show())\n",
    "        return f\"Name is {self.name},age is {self.age} and roll number is {self.roll_no}\"\n",
    "class Employee(Student):\n",
    "    def __init__(self,name,age,roll_no,salary):\n",
    "        super().__init__(name,age,roll_no)\n",
    "        self.salary=salary\n",
    "    #method creation\n",
    "    def show(self):\n",
    "        print(super().show())\n",
    "        return f\"Name is {self.name},age is {self.age},roll number is {self.roll_no} and salary is {self.salary}\"\n",
    "p=Parent(\"Chaitanya\",12)\n",
    "s=Student(\"Sai\",22,123)\n",
    "e=Employee(\"Manohar\",23,1234,50000)\n",
    "print(p.show())\n",
    "print(s.show())\n",
    "print(e.show())"
   ]
  },
  {
   "cell_type": "code",
   "execution_count": 4,
   "id": "76fc6447-f6db-430d-8187-1b641ed16bcf",
   "metadata": {},
   "outputs": [
    {
     "name": "stdout",
     "output_type": "stream",
     "text": [
      "I am from Father class\n",
      "(<class '__main__.Child'>, <class '__main__.Father'>, <class '__main__.Mother'>, <class 'object'>)\n",
      "I am from Mother class\n",
      "I am your Mother\n",
      "Child name is Chaitanya and age is 22\n"
     ]
    }
   ],
   "source": [
    "#3.Multiple inheritance\n",
    "class Father:\n",
    "    def __init__(self,name):\n",
    "        self.name=name\n",
    "    #method creation\n",
    "    def show_details(self):\n",
    "        return \"I am from Father class\"\n",
    "class Mother:\n",
    "    def __init__(self,name):\n",
    "        self.name=name\n",
    "    def show_details(self):\n",
    "        return \"I am from Mother class\"\n",
    "    def detail(self):\n",
    "        return \"I am your Mother\"\n",
    "class Child(Father,Mother):\n",
    "    def __init__(self,name,age):\n",
    "        super().__init__(name)\n",
    "        self.age=age\n",
    "    def show_details(self):\n",
    "        return f\"Child name is {self.name} and age is {self.age}\"\n",
    "f=Father(\"Father\")\n",
    "m=Mother(\"Mother\")\n",
    "c=Child(\"Chaitanya\",22)\n",
    "print(f.show_details())\n",
    "print(Child.__mro__)\n",
    "print(m.show_details())\n",
    "print(m.detail())\n",
    "print(c.show_details())"
   ]
  },
  {
   "cell_type": "code",
   "execution_count": 10,
   "id": "2ff86250-5b4d-4ef8-8257-7bc795e65e9b",
   "metadata": {},
   "outputs": [
    {
     "name": "stdout",
     "output_type": "stream",
     "text": [
      "Name is Chaitanya and age is 22\n",
      "Name is Sai and age is 23\n",
      "Name is Sai,age is 23 and education is B.Tech\n",
      "Name is Manohar and age is 22\n",
      "Name is Manohar,age is 22 and salary is 50000\n"
     ]
    }
   ],
   "source": [
    "#4.Hierarchical inheritance\n",
    "class Parent:\n",
    "    def __init__(self,name,age):\n",
    "        self.name=name\n",
    "        self.age=age\n",
    "    def show(self):\n",
    "        return f\"Name is {self.name} and age is {self.age}\"\n",
    "class Student(Parent):\n",
    "    def __init__(self,name,age,education):\n",
    "        super().__init__(name,age)\n",
    "        self.education=education\n",
    "    def show(self):\n",
    "        print(super().show())\n",
    "        return f\"Name is {self.name},age is {self.age} and education is {self.education}\"\n",
    "class Employee(Parent):\n",
    "    def __init__(self,name,age,salary):\n",
    "        super().__init__(name,age)\n",
    "        self.salary=salary\n",
    "    def show(self):\n",
    "        print(super().show())\n",
    "        return f\"Name is {self.name},age is {self.age} and salary is {self.salary}\"\n",
    "p=Parent(\"Chaitanya\",22)\n",
    "s=Student(\"Sai\",23,\"B.Tech\")\n",
    "e=Employee(\"Manohar\",22,50000)\n",
    "print(p.show())\n",
    "print(s.show())\n",
    "print(e.show())\n",
    "\n",
    "    "
   ]
  },
  {
   "cell_type": "code",
   "execution_count": 16,
   "id": "ece07a70-56fe-42dc-8087-67f310fd618c",
   "metadata": {},
   "outputs": [
    {
     "name": "stdout",
     "output_type": "stream",
     "text": [
      "Name is Chaitanya and age is 22\n",
      "Name is Manohar,age is 21 and salary is 50000\n",
      "Name is Sai,age is 22,Salary is 22000 and education is B.Tech\n",
      "Name is Madhav,age is 21,Salary is 50000,id is 123\n"
     ]
    }
   ],
   "source": [
    "# 5.Hybrid inheritance\n",
    "class Parent:\n",
    "    def __init__(self,name,age):\n",
    "        self.name=name\n",
    "        self.age=age\n",
    "    def show(self):\n",
    "        return f\"Name is {self.name} and age is {self.age}\"\n",
    "class Employee:\n",
    "    def __init__(self,name,age,salary):\n",
    "        self.name=name\n",
    "        self.age=age\n",
    "        self.salary=salary\n",
    "    def show(self):\n",
    "        return f\"Name is {self.name},age is {self.age} and salary is {self.salary}\"\n",
    "class Child(Parent,Employee):\n",
    "    def __init__(self,name,age,salary,education):\n",
    "        Parent.__init__(self,name,age)\n",
    "        Employee.__init__(self,name,age,salary)\n",
    "        self.education=education\n",
    "    def show(self):\n",
    "        return f\"Name is {self.name},age is {self.age},Salary is {self.salary} and education is {self.education}\"\n",
    "class Child1(Employee):\n",
    "    def __init__(self,name,age,salary,id):\n",
    "        super().__init__(name,age,salary)\n",
    "        self.id=id\n",
    "    def show(self):\n",
    "        return f\"Name is {self.name},age is {self.age},Salary is {self.salary},id is {self.id}\"\n",
    "p=Parent(\"Chaitanya\",22)\n",
    "e=Employee(\"Manohar\",21,50000)\n",
    "c=Child(\"Sai\",22,22000,\"B.Tech\")\n",
    "c1=Child1(\"Madhav\",21,50000,123)\n",
    "print(p.show())\n",
    "print(e.show())\n",
    "print(c.show())\n",
    "print(c1.show())\n",
    "        \n",
    "    "
   ]
  },
  {
   "cell_type": "code",
   "execution_count": 9,
   "id": "cec002c4-cb6a-4f25-8de8-ba95ad5f1f08",
   "metadata": {},
   "outputs": [
    {
     "name": "stdin",
     "output_type": "stream",
     "text": [
      " petrol\n"
     ]
    },
    {
     "name": "stdout",
     "output_type": "stream",
     "text": [
      "Petrol Engine\n"
     ]
    }
   ],
   "source": [
    "# Write a python program to Implement the following inheritance hierarchy: Engine is the base class. Electric and Petrol inherit from Engine. \n",
    "# HybridCar inherits from both Electric and Petrol. Define a method engine_type() in: Engine that returns \"Generic Engine\". \n",
    "# Electric that returns \"Electric Engine\". Petrol that returns \"Petrol Engine\". HybridCar that overrides engine_type()\n",
    "# to return \"Electric + Petrol Engine\".\n",
    "class Engine:\n",
    "    def engine_type(self):\n",
    "        return \"Generic Engine\"\n",
    "    \n",
    "class Electric(Engine):\n",
    "    def engine_type(self):\n",
    "        return \"Electric Engine\"\n",
    "    \n",
    "class Petrol(Engine):\n",
    "    def engine_type(self):\n",
    "        return \"Petrol Engine\"\n",
    "    \n",
    "class HybridCar(Electric,Petrol):\n",
    "    def engine_type(self):\n",
    "        return \"Electric + Petrol Engine\"\n",
    "vehicle_type=input().strip().lower()\n",
    "\n",
    "if vehicle_type == 'engine':\n",
    "    obj=Engine()\n",
    "elif vehicle_type=='electric':\n",
    "    obj=Electric()\n",
    "elif vehicle_type=='petrol':\n",
    "    obj=Petrol()\n",
    "elif vehicle_type=='hybridcar':\n",
    "    obj=HybridCar()\n",
    "else:\n",
    "    obj=Engine()\n",
    "print(obj.engine_type())\n",
    "    "
   ]
  },
  {
   "cell_type": "code",
   "execution_count": null,
   "id": "b195281c-6368-4f04-8b0c-8c3f9b303e16",
   "metadata": {},
   "outputs": [],
   "source": [
    "class Engine:\n",
    "    def engine_type(self):\n",
    "        return \"Generic Engine\"\n",
    "\n",
    "class Electric(Engine):\n",
    "    def engine_type(self):\n",
    "        return \"Electric Engine\"\n",
    "\n",
    "class Petrol(Engine):\n",
    "    def engine_type(self):\n",
    "        return \"Petrol Engine\"\n",
    "\n",
    "class HybridCar(Electric, Petrol):\n",
    "    def engine_type(self):\n",
    "        return \"Electric + Petrol Engine\"\n",
    "\n",
    "vehicle_type = input().strip().lower()\n",
    "\n",
    "if vehicle_type == \"engine\":\n",
    "    obj = Engine()\n",
    "elif vehicle_type == \"electric\":\n",
    "    obj = Electric()\n",
    "elif vehicle_type == \"petrol\":\n",
    "    obj = Petrol()\n",
    "elif vehicle_type == \"hybridcar\":\n",
    "    obj = HybridCar()\n",
    "else:\n",
    "    obj = Engine()\n",
    "\n",
    "print(obj.engine_type())"
   ]
  },
  {
   "cell_type": "code",
   "execution_count": null,
   "id": "3588799d-4f6f-44b3-be59-9ec4d0b19d23",
   "metadata": {},
   "outputs": [],
   "source": [
    "# Create a class hierarchy with multi-level inheritance as follows: Class Number: contains an integer attribute n initialized through constructor. \n",
    "# Class Square: inherits from Number, contains a method get_square() that returns the square of n. Class Cube: inherits from Square, \n",
    "# contains a method get_cube() that returns the cube of n. Write a main function that: Reads an integer from input. Creates an object of \n",
    "# class Cube.Prints the square and cube of the number using get_square() and get_cube() methods."
   ]
  },
  {
   "cell_type": "code",
   "execution_count": 13,
   "id": "9f06fa31-663c-425e-9d0b-f82ad7a6f66c",
   "metadata": {},
   "outputs": [
    {
     "name": "stdin",
     "output_type": "stream",
     "text": [
      " 4\n"
     ]
    },
    {
     "name": "stdout",
     "output_type": "stream",
     "text": [
      "Square: 16\n",
      "Cube: 64\n"
     ]
    }
   ],
   "source": [
    "class Number:\n",
    "    def __init__(self,n):\n",
    "        self.n=n\n",
    "class Square(Number):\n",
    "    def __init__(self,n):\n",
    "        super().__init__(n)\n",
    "    def get_square(self):\n",
    "        return f\"Square: {self.n**2}\"\n",
    "class Cube(Square):\n",
    "    def __init__(self,n):\n",
    "        super().__init__(n)\n",
    "    def get_cube(self):\n",
    "        return f\"Cube: {self.n**3}\"\n",
    "n=int(input())\n",
    "c=Cube(n)\n",
    "print(c.get_square())\n",
    "print(c.get_cube())\n"
   ]
  },
  {
   "cell_type": "code",
   "execution_count": 14,
   "id": "c789fcaf-0f16-40ae-85cd-ef3b016172cd",
   "metadata": {},
   "outputs": [
    {
     "name": "stdin",
     "output_type": "stream",
     "text": [
      " 4\n"
     ]
    },
    {
     "name": "stdout",
     "output_type": "stream",
     "text": [
      "Square: 16\n",
      "Cube: 64\n"
     ]
    }
   ],
   "source": [
    "class Number:\n",
    "    def __init__(self, n):\n",
    "        self.n = n\n",
    "\n",
    "class Square(Number):\n",
    "    def get_square(self):\n",
    "        return self.n ** 2\n",
    "\n",
    "class Cube(Square):\n",
    "    def get_cube(self):\n",
    "        return self.n ** 3\n",
    "\n",
    "\n",
    "n = int(input())\n",
    "obj = Cube(n)\n",
    "print(\"Square:\", obj.get_square())\n",
    "print(\"Cube:\", obj.get_cube())\n"
   ]
  }
 ],
 "metadata": {
  "kernelspec": {
   "display_name": "Python 3 (ipykernel)",
   "language": "python",
   "name": "python3"
  },
  "language_info": {
   "codemirror_mode": {
    "name": "ipython",
    "version": 3
   },
   "file_extension": ".py",
   "mimetype": "text/x-python",
   "name": "python",
   "nbconvert_exporter": "python",
   "pygments_lexer": "ipython3",
   "version": "3.13.5"
  }
 },
 "nbformat": 4,
 "nbformat_minor": 5
}
