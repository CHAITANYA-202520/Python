{
 "cells": [
  {
   "cell_type": "code",
   "execution_count": 20,
   "id": "b088a2e1-b702-4633-8f20-6516b96b9bbc",
   "metadata": {},
   "outputs": [
    {
     "name": "stdout",
     "output_type": "stream",
     "text": [
      "[3, 6, 9]\n",
      "[8]\n",
      "[]\n"
     ]
    }
   ],
   "source": [
    "# 1.Create a function that takes three parameters where:\n",
    "# x is the start of the range (inclusive).\n",
    "# y is the end of the range (inclusive).\n",
    "# n is the divisor to be checked against.\n",
    "\n",
    "# Return an ordered list with numbers in the range that are divisible by the third parameter n. \n",
    "#Return an empty list if there are no numbers that are divisible by n. Examples:\n",
    "# list_operation(1, 10, 3) ➞ [3, 6, 9]\n",
    "# list_operation(7, 9, 2) ➞ [8]\n",
    "# list_operation(15, 20, 7) ➞ []\n",
    "def list_operations(s,e,d):\n",
    "    res=[]\n",
    "    for num in range(s,e+1):\n",
    "        if num%d==0:\n",
    "            res.append(num)\n",
    "    return res\n",
    "print(list_operations(1,10,3))\n",
    "print(list_operations(7,9,2))\n",
    "print(list_operations(15,20,7))\n"
   ]
  },
  {
   "cell_type": "code",
   "execution_count": 21,
   "id": "a9fe20fe-f677-4886-a93c-6447f5bb8188",
   "metadata": {},
   "outputs": [
    {
     "name": "stdout",
     "output_type": "stream",
     "text": [
      "[3, 6, 9]\n",
      "[8]\n",
      "[]\n"
     ]
    }
   ],
   "source": [
    "def list_operations(s,e,d):\n",
    "    return [x for x in range(s,e+1) if x%d==0]\n",
    "print(list_operations(1,10,3))\n",
    "print(list_operations(7,9,2))\n",
    "print(list_operations(15,20,7))"
   ]
  },
  {
   "cell_type": "code",
   "execution_count": 22,
   "id": "1f39e66e-19e1-4086-9440-360595eda8f1",
   "metadata": {},
   "outputs": [
    {
     "name": "stdout",
     "output_type": "stream",
     "text": [
      "AMS\n",
      "CHLN\n",
      "CJMPRR\n"
     ]
    }
   ],
   "source": [
    "# 2.A group of friends have decided to start a secret society. The name will be the first letter of \n",
    "# each of their names, sorted in a alphabetical order ?Create a function that takes in a list of names and returns the name of the secret society ?\n",
    "# Examples:\n",
    "# society_name([\"Adam\", \"Sarah\", \"Malcolm\"]) ➞ \"AMS\"\n",
    "# society_name([\"Harry\", \"Newt\", \"Luna\", \"Cho\"]) ➞ \"CHLN\"\n",
    "# society_name([\"Phoebe\", \"Chandler\", \"Rachel\", \"Ross\", \"Monica\", \"Joey\"])\n",
    "def society_name(lst_names):\n",
    "    res=[]\n",
    "    for name in lst_names:\n",
    "        res.append(name[0])\n",
    "    res.sort()\n",
    "    return \"\".join(res)\n",
    "print(society_name([\"Adam\", \"Sarah\", \"Malcolm\"]))\n",
    "print(society_name([\"Harry\", \"Newt\", \"Luna\", \"Cho\"]))\n",
    "print(society_name([\"Phoebe\", \"Chandler\", \"Rachel\", \"Ross\", \"Monica\", \"Joey\"]))"
   ]
  },
  {
   "cell_type": "code",
   "execution_count": 23,
   "id": "3564204e-02b9-4dc6-b9b5-307f86823910",
   "metadata": {},
   "outputs": [],
   "source": [
    "# 3.An isogram is a word that has no duplicate letters. Create a function that takes a string and returns either True or \n",
    "# False depending on whether or not it's an \"isogram\".\n",
    "# Examples:\n",
    "# is_isogram(\"Algorism\") ➞ True\n",
    "# is_isogram(\"PasSword\") ➞ False\n",
    "# # Not case sensitive.\n",
    "# is_isogram(\"Consecutive\") ➞ False\n",
    "\n",
    "# Notes:\n",
    "# Ignore letter case (should not be case sensitive).\n",
    "# All test cases contain valid one word strings.\n"
   ]
  },
  {
   "cell_type": "code",
   "execution_count": 24,
   "id": "2d3d27de-b777-4cdf-9969-ba621b51fc6e",
   "metadata": {},
   "outputs": [
    {
     "name": "stdout",
     "output_type": "stream",
     "text": [
      "False\n"
     ]
    }
   ],
   "source": [
    "def is_isogram(string):\n",
    "    lower_str=string.lower()\n",
    "    for char in lower_str:\n",
    "        if lower_str.count(char)>1:\n",
    "            return False\n",
    "    else:\n",
    "        return True\n",
    "print(is_isogram(\"PasSword\"))"
   ]
  },
  {
   "cell_type": "code",
   "execution_count": 25,
   "id": "b271bc73-22bf-4986-984e-2b84a2f94bd0",
   "metadata": {},
   "outputs": [
    {
     "name": "stdout",
     "output_type": "stream",
     "text": [
      "False\n"
     ]
    }
   ],
   "source": [
    "def is_isogram(string):\n",
    "    lower_str=string.lower()\n",
    "    d={}\n",
    "    for char in lower_str:\n",
    "        if char not in d:\n",
    "            d[char]=1\n",
    "        else:\n",
    "            d[char]+=1\n",
    "    #print(d)\n",
    "    for val in d.values():\n",
    "        if val>1:\n",
    "            return False\n",
    "    else:\n",
    "        return True\n",
    "print(is_isogram(\"Pass\"))"
   ]
  },
  {
   "cell_type": "code",
   "execution_count": 26,
   "id": "2fd587e7-85e9-4960-9d77-11aa7de38981",
   "metadata": {},
   "outputs": [
    {
     "name": "stdout",
     "output_type": "stream",
     "text": [
      "True\n",
      "False\n"
     ]
    }
   ],
   "source": [
    "# 4.Create a function that takes a string and returns True or False, depending on whether the characters are in order or not ?\n",
    "# Examples:\n",
    "# is_in_order(\"abc\") ➞ True\n",
    "# is_in_order(\"edabit\") ➞ False\n",
    "# is_in_order(\"123\") ➞ True\n",
    "# is_in_order(\"xyzz\") ➞ True\n",
    "\n",
    "# Notes:\n",
    "# You don't have to handle empty strings.\n",
    "def is_in_order(string):\n",
    "    l=list(string)\n",
    "    l.sort()\n",
    "    new_str=\"\".join(l)\n",
    "    if string==new_str:\n",
    "        return True\n",
    "    else:\n",
    "        return False\n",
    "print(is_in_order(\"abc\"))\n",
    "print(is_in_order(\"edabit\"))\n",
    "    "
   ]
  },
  {
   "cell_type": "code",
   "execution_count": 116,
   "id": "a0c56f7b-6d2b-4883-bd4f-f8901de1dd5d",
   "metadata": {},
   "outputs": [
    {
     "name": "stdout",
     "output_type": "stream",
     "text": [
      "True\n",
      "False\n",
      "True\n",
      "False\n",
      "True\n"
     ]
    }
   ],
   "source": [
    "# 5.Create a function that takes a number as an argument and returns True or False depending on whether the number is symmetrical \n",
    "# or not. A number is symmetrical when it is the same as its reverse.\n",
    "# Examples:\n",
    "# is_symmetrical(7227) ➞ True\n",
    "# is_symmetrical(12567) ➞ False\n",
    "# is_symmetrical(44444444) ➞ True\n",
    "# is_symmetrical(9939) ➞ False\n",
    "# is_symmetrical(1112111) ➞ True\n",
    "def is_symmetrical(n):\n",
    "    new_str=str(n)\n",
    "    return new_str==new_str[::-1]\n",
    "        \n",
    "print(is_symmetrical(7227))\n",
    "print(is_symmetrical(12567))\n",
    "print(is_symmetrical(44444444))\n",
    "print(is_symmetrical(9939))\n",
    "print(is_symmetrical(1112111))"
   ]
  },
  {
   "cell_type": "code",
   "execution_count": 114,
   "id": "9f132131-962e-4172-b941-4fa66a95280f",
   "metadata": {},
   "outputs": [
    {
     "name": "stdout",
     "output_type": "stream",
     "text": [
      "6\n",
      "24\n",
      "0\n",
      "-20\n"
     ]
    }
   ],
   "source": [
    "# 6.Given a string of numbers separated by a comma and space, return the product of the numbers.\n",
    "# Examples:\n",
    "# multiply_nums(\"2, 3\") ➞ 6\n",
    "# multiply_nums(\"1, 2, 3, 4\") ➞ 24\n",
    "# multiply_nums(\"54, 75, 453, 0\") ➞ 0\n",
    "# multiply_nums(\"10, -2\") ➞ -20\n",
    "def multiply_nums(s):\n",
    "    l=s.split(',')\n",
    "    a=1\n",
    "    for num in l:\n",
    "        a*=int(num)\n",
    "    return a\n",
    "             \n",
    "print(multiply_nums(\"2,3\"))\n",
    "print(multiply_nums(\"1, 2, 3, 4\"))\n",
    "print(multiply_nums(\"54, 75, 453, 0\"))\n",
    "print(multiply_nums(\"10, -2\"))"
   ]
  },
  {
   "cell_type": "code",
   "execution_count": null,
   "id": "5b4d2e9a-bfe8-43f2-9811-4d8efc879c04",
   "metadata": {},
   "outputs": [],
   "source": []
  }
 ],
 "metadata": {
  "kernelspec": {
   "display_name": "Python 3 (ipykernel)",
   "language": "python",
   "name": "python3"
  },
  "language_info": {
   "codemirror_mode": {
    "name": "ipython",
    "version": 3
   },
   "file_extension": ".py",
   "mimetype": "text/x-python",
   "name": "python",
   "nbconvert_exporter": "python",
   "pygments_lexer": "ipython3",
   "version": "3.13.5"
  }
 },
 "nbformat": 4,
 "nbformat_minor": 5
}
