{
 "cells": [
  {
   "cell_type": "code",
   "execution_count": 7,
   "id": "f2ea150c-006a-466e-8692-eeb158331b9a",
   "metadata": {},
   "outputs": [
    {
     "name": "stdout",
     "output_type": "stream",
     "text": [
      "srinu\n",
      "Name is srinu and age is 10 years old\n",
      "Name is Geethu and age is 3 years old\n"
     ]
    }
   ],
   "source": [
    "#Types of inheritance\n",
    "#1.Single inheritance\n",
    "#without child class implementation\n",
    "\n",
    "class Person:\n",
    "    def __init__(self,name,age):\n",
    "        self.name=name\n",
    "        self.age=age\n",
    "    #method creation\n",
    "    def show(self):\n",
    "        return f\"Name is {self.name} and age is {self.age} years old\"\n",
    "class Student(Person):\n",
    "    pass\n",
    "s=Student(\"srinu\",10)\n",
    "p=Person(\"Geethu\",3)\n",
    "print(s.name)\n",
    "print(s.show())  \n",
    "print(p.show())\n",
    "        "
   ]
  },
  {
   "cell_type": "code",
   "execution_count": 5,
   "id": "9c901dff-64f3-4263-895e-ce311442a272",
   "metadata": {},
   "outputs": [
    {
     "name": "stdout",
     "output_type": "stream",
     "text": [
      "Name is Geethu and age is 3 years old\n",
      "Name is srinu and age is 23 years old\n"
     ]
    }
   ],
   "source": [
    "class Person:\n",
    "    def __init__(self,name,age):\n",
    "        self.name=name\n",
    "        self.age=age\n",
    "    #method creation\n",
    "    def show(self):\n",
    "        return f\"Name is {self.name} and age is {self.age} years old\"\n",
    "class Student(Person):\n",
    "     def __init__(self,name,age,roll_no):\n",
    "         super().__init__(name,age)\n",
    "         self.roll_no=roll_no\n",
    "     \n",
    "s=Student(\"Geethu\",3,1234)\n",
    "p=Person(\"srinu\",23)\n",
    "print(s.show())  \n",
    "print(p.show())\n",
    "   "
   ]
  },
  {
   "cell_type": "code",
   "execution_count": 11,
   "id": "3e88cf18-a3bc-4684-82f9-3b2b1e695ab5",
   "metadata": {},
   "outputs": [
    {
     "name": "stdout",
     "output_type": "stream",
     "text": [
      "Name is Geethu and age is 3 years old\n",
      "Name is Geethu and roll number is 1234\n",
      "None\n",
      "Name is srinu and age is 23 years old\n",
      "None\n"
     ]
    }
   ],
   "source": [
    "class Person:\n",
    "    def __init__(self,name,age):\n",
    "        self.name=name\n",
    "        self.age=age\n",
    "    #method creation\n",
    "    def show(self):\n",
    "        print(f\"Name is {self.name} and age is {self.age} years old\")\n",
    "class Student(Person):\n",
    "     def __init__(self,name,age,roll_no):\n",
    "         super().__init__(name,age)\n",
    "         self.roll_no=roll_no\n",
    "     #method creation\n",
    "     def show(self):\n",
    "         super().show()\n",
    "         print(f\"Name is {self.name} and roll number is {self.roll_no}\")\n",
    "    \n",
    "p=Person(\"srinu\",23)\n",
    "s=Student(\"Geethu\",3,1234)\n",
    "print(s.show())  \n",
    "print(p.show())\n",
    "   "
   ]
  },
  {
   "cell_type": "code",
   "execution_count": 33,
   "id": "25fbe9a1-6215-4a1c-b151-c1ca574a83be",
   "metadata": {},
   "outputs": [
    {
     "name": "stdout",
     "output_type": "stream",
     "text": [
      "Name is Geethu and age is 3 years old\n",
      "Name is Geethu and roll number is 1234\n",
      "Name is srinu and age is 23 years old\n"
     ]
    }
   ],
   "source": [
    "#method overloading\n",
    "class Person:\n",
    "    def __init__(self,name,age):\n",
    "        self.name=name\n",
    "        self.age=age\n",
    "    #method creation\n",
    "    def show(self):\n",
    "        return f\"Name is {self.name} and age is {self.age} years old\"\n",
    "class Student(Person):\n",
    "     def __init__(self,name,age,roll_no):\n",
    "         super().__init__(name,age)\n",
    "         self.roll_no=roll_no\n",
    "     #method creation\n",
    "     def show(self):\n",
    "         print(super().show())\n",
    "         return f\"Name is {self.name} and roll number is {self.roll_no}\"\n",
    "     \n",
    "p=Person(\"srinu\",23)\n",
    "s=Student(\"Geethu\",3,1234)\n",
    "print(s.show())  \n",
    "print(p.show())\n",
    "   "
   ]
  },
  {
   "cell_type": "code",
   "execution_count": 36,
   "id": "ddfd74dd-d3fd-461e-8b71-e3fcdc7aead8",
   "metadata": {},
   "outputs": [
    {
     "name": "stdout",
     "output_type": "stream",
     "text": [
      "From class A\n"
     ]
    }
   ],
   "source": [
    "class A:\n",
    "    def a_method(self):\n",
    "        print(\"From class A\")\n",
    "class B(A):\n",
    "    def b_method():\n",
    "        print(\"From class B\")\n",
    "b=B()\n",
    "b.a_method()"
   ]
  },
  {
   "cell_type": "code",
   "execution_count": 1,
   "id": "df7e8c5c-d142-4368-8a51-bc2c84ff1238",
   "metadata": {},
   "outputs": [
    {
     "name": "stdout",
     "output_type": "stream",
     "text": [
      "Name is Srinubabu and age is 25 years old\n",
      "Name is Srinubabu and roll number is BTECH\n",
      "Name is Srinubabu and salary is 1500000000\n"
     ]
    }
   ],
   "source": [
    "#2.Multilevel inheritance\n",
    "#method overloading\n",
    "class Person:\n",
    "    def __init__(self,name,age):\n",
    "        self.name=name\n",
    "        self.age=age\n",
    "    #method creation\n",
    "    def show(self):\n",
    "        return f\"Name is {self.name} and age is {self.age} years old\"\n",
    "class Student(Person):\n",
    "     def __init__(self,name,age,education):\n",
    "         super().__init__(name,age)\n",
    "         self.education=education\n",
    "     #method creation\n",
    "     def show(self):\n",
    "         print(super().show())\n",
    "         return f\"Name is {self.name} and roll number is {self.education}\"\n",
    "class Employee(Student):\n",
    "    def __init__(self,name,age,education,salary):\n",
    "        super().__init__(name,age,education)\n",
    "        self.salary=salary\n",
    "    def show(self):\n",
    "        # print(f\"Name is {self.name} and age is {self.age} years old\")\n",
    "        # print(f\"Name is {self.name} and roll number is {self.education}\")\n",
    "        print(super().show())\n",
    "        return f\"Name is {self.name} and salary is {self.salary}\"\n",
    "     \n",
    "p=Person(\"Geethu\",3)\n",
    "s=Student(\"Prerana\",5,1234)\n",
    "# print(s.show())  \n",
    "# print(p.show())\n",
    "e=Employee(\"Srinubabu\",25,\"BTECH\",\"1500000000\")\n",
    "print(e.show())\n",
    "   \n"
   ]
  },
  {
   "cell_type": "code",
   "execution_count": 17,
   "id": "8dc21200-59ea-4140-a96b-9bdab454e24d",
   "metadata": {},
   "outputs": [
    {
     "name": "stdout",
     "output_type": "stream",
     "text": [
      "Geethu\n",
      "(<class '__main__.Child'>, <class '__main__.Father'>, <class '__main__.Mother'>, <class 'object'>)\n",
      "I am from Father class\n",
      "Child name is Geethu and age is 3\n",
      "I am your mother\n"
     ]
    }
   ],
   "source": [
    "#3.Multiple inheritance\n",
    "# first parent class\n",
    "class Father:\n",
    "    def __init__(self,name):\n",
    "        self.name=name\n",
    "    def show_name(self):\n",
    "        print(\"I am from Father class\")\n",
    "# second parent class\n",
    "class Mother:\n",
    "    def __init__(self,name):\n",
    "        self.name=name\n",
    "    def show_name(self):\n",
    "        print(\"I am from mother class\")   \n",
    "    def details(self):\n",
    "        return \"I am your mother\"\n",
    "#child class\n",
    "class Child(Father,Mother):\n",
    "    def __init__(self,name,age):\n",
    "        super().__init__(name)\n",
    "        self.age=age\n",
    "    def show_name(self):\n",
    "        super().show_name()\n",
    "        return f\"Child name is {self.name} and age is {self.age}\"\n",
    "c=Child(\"Geethu\",3)\n",
    "m= Mother(\"Mother_name\")\n",
    "f=Father(\"Father_name\")\n",
    "print(c.name)\n",
    "print(Child.__mro__)# Method resulution order\n",
    "print(c.show_name())\n",
    "print(c.details())"
   ]
  },
  {
   "cell_type": "code",
   "execution_count": 19,
   "id": "db209dd0-0003-4cdf-a8a5-415f7ec2a940",
   "metadata": {},
   "outputs": [
    {
     "name": "stdout",
     "output_type": "stream",
     "text": [
      "Name is Srinubabu and age is 25 years old\n",
      "Name is Srinubabu and salary is 1500000000\n"
     ]
    }
   ],
   "source": [
    "# 4.Hierarchical Inheritance\n",
    "class Person:\n",
    "    def __init__(self,name,age):\n",
    "        self.name=name\n",
    "        self.age=age\n",
    "    #method creation\n",
    "    def show(self):\n",
    "        return f\"Name is {self.name} and age is {self.age} years old\"\n",
    "class Student(Person):\n",
    "     def __init__(self,name,age,education):\n",
    "         super().__init__(name,age)\n",
    "         self.education=education\n",
    "     \n",
    "class Employee(Person):\n",
    "    def __init__(self,name,age,salary):\n",
    "        super().__init__(name,age)\n",
    "        self.salary=salary\n",
    "    def show(self):\n",
    "        # print(f\"Name is {self.name} and age is {self.age} years old\")\n",
    "        # print(f\"Name is {self.name} and roll number is {self.education}\")\n",
    "        print(super().show())\n",
    "        return f\"Name is {self.name} and salary is {self.salary}\"\n",
    "     \n",
    "p=Person(\"Geethu\",3)\n",
    "s=Student(\"Prerana\",5,1234)\n",
    "# print(s.show())  \n",
    "# print(p.show())\n",
    "e=Employee(\"Srinubabu\",25,\"1500000000\")\n",
    "print(e.show())\n",
    "   \n",
    "\n"
   ]
  },
  {
   "cell_type": "code",
   "execution_count": 18,
   "id": "ff2a4ba2-2b79-4143-9c0d-ce0bc1f47f20",
   "metadata": {
    "scrolled": true
   },
   "outputs": [
    {
     "name": "stdout",
     "output_type": "stream",
     "text": [
      "The name is :Chaitanya\n",
      "The name is :Chaitanya and age is: 22\n",
      "The name is :Chaitanya\n",
      "The name is :Chaitanya,age is :22 and height is:222\n",
      "The name is :Chaitanya and age is: 22\n",
      "The name is :Chaitanya,age is :22 and weight is :444\n",
      "The name is :Chaitanya and age is: 22\n",
      "The name is :Chaitanya,age is :22 and salary is:15000\n"
     ]
    }
   ],
   "source": [
    "# 5.Hybrid Inheritance\n",
    "class A:\n",
    "     def __init__(self,name):\n",
    "         self.name=name\n",
    "     def show(self):\n",
    "         return f\"The name is :{self.name}\"\n",
    "class C:\n",
    "    def __init__(self,name,age):\n",
    "        self.name=name\n",
    "        self.age=age\n",
    "    def show(self):\n",
    "        return f\"The name is :{self.name} and age is: {self.age}\"\n",
    "class B(A,C):\n",
    "    def __init__(self,name,age,height):\n",
    "        A.__init__(self,name)\n",
    "        C.__init__(self,name,age)\n",
    "        self.height=height\n",
    "    def show(self):\n",
    "        print(super().show())\n",
    "        return f\"The name is :{self.name},age is :{self.age} and height is:{self.height}\"\n",
    "class D(C):\n",
    "    def __init__(self,name,age,weight):\n",
    "        super().__init__(name,age)\n",
    "        self.weight=weight\n",
    "    def show(self):\n",
    "        print(super().show())\n",
    "        return f\"The name is :{self.name},age is :{self.age} and weight is :{self.weight}\"\n",
    "class E(C):\n",
    "    def __init__(self,name,age,salary):\n",
    "        super().__init__(name,age)\n",
    "        self.salary=salary\n",
    "    def show(self):\n",
    "        print(super().show())\n",
    "        return f\"The name is :{self.name},age is :{self.age} and salary is:{self.salary}\"\n",
    "a=A(\"Chaitanya\")\n",
    "c=C(\"Chaitanya\",22)\n",
    "b=B(\"Chaitanya\",22,222)\n",
    "d=D(\"Chaitanya\",22,444)\n",
    "e=E(\"Chaitanya\",22,15000)\n",
    "print(a.show())\n",
    "print(c.show())\n",
    "print(b.show())\n",
    "print(d.show())\n",
    "print(e.show())\n"
   ]
  },
  {
   "cell_type": "code",
   "execution_count": 6,
   "id": "61da7080-6db6-4bd7-a31c-b0e992ef312b",
   "metadata": {},
   "outputs": [
    {
     "name": "stdout",
     "output_type": "stream",
     "text": [
      "The addition of two numbers is:30\n",
      "The subtraction of two numbers is:-10\n",
      "The multiplication of two numbers is :200\n",
      "The division of two numbers is 0.5\n",
      "The power of two numbers is:100000000000000000000\n",
      "The square root of  number a  is:3.1622776601683795 and b is 4.47213595499958\n"
     ]
    }
   ],
   "source": [
    "#1.single inheritance\n",
    "class simple_calculator:\n",
    "    def __init__(self,a,b):\n",
    "        self.a=a\n",
    "        self.b=b\n",
    "    def addition(self):\n",
    "        return f\"The addition of two numbers is:{self.a+self.b}\"\n",
    "    def sub(self):\n",
    "        return f\"The subtraction of two numbers is:{self.a-self.b}\"\n",
    "    def mul(self):\n",
    "        return f\"The multiplication of two numbers is :{self.a*self.b}\"\n",
    "    def div(self):\n",
    "        return f\"The division of two numbers is {self.a/self.b}\"\n",
    "class Adv_calculator(simple_calculator):\n",
    "    def __init__(self,a,b):\n",
    "        super().__init__(a,b)\n",
    "    def power(self):\n",
    "        return f\"The power of two numbers is:{self.a**self.b}\"\n",
    "    def sqrt_no(self):\n",
    "        return f\"The square root of  number a  is:{self.a**0.5} and b is {self.b**0.5}\"\n",
    "s=Adv_calculator(10,20)\n",
    "print(s.addition())\n",
    "print(s.sub())\n",
    "print(s.mul())\n",
    "print(s.div())\n",
    "print(s.power())\n",
    "print(s.sqrt_no())"
   ]
  },
  {
   "cell_type": "code",
   "execution_count": 7,
   "id": "de04dff3-9642-4d64-93da-6d31f45180a8",
   "metadata": {},
   "outputs": [
    {
     "name": "stdout",
     "output_type": "stream",
     "text": [
      "The addition of two numbers is:30\n",
      "The subtraction of two numbers is:-10\n",
      "The multiplication of two numbers is :200\n",
      "The division of two numbers is 0.5\n",
      "The power of two numbers is:100000000000000000000\n",
      "The square root of  number a  is:3.1622776601683795 and b is 4.47213595499958\n"
     ]
    }
   ],
   "source": [
    "#2.Multilevel inheritance\n",
    "class simple_calculator:\n",
    "    def __init__(self,a,b):\n",
    "        self.a=a\n",
    "        self.b=b\n",
    "    def addition(self):\n",
    "        return f\"The addition of two numbers is:{self.a+self.b}\"\n",
    "class simple_calculator1(simple_calculator):\n",
    "    def __init__(self,a,b):\n",
    "        super().__init__(a,b)\n",
    "    def sub(self):\n",
    "        return f\"The subtraction of two numbers is:{self.a-self.b}\"\n",
    "    def mul(self):\n",
    "        return f\"The multiplication of two numbers is :{self.a*self.b}\"\n",
    "    def div(self):\n",
    "        return f\"The division of two numbers is {self.a/self.b}\"\n",
    "class Adv_calculator(simple_calculator1):\n",
    "    def __init__(self,a,b):\n",
    "        super().__init__(a,b)\n",
    "    def power(self):\n",
    "        return f\"The power of two numbers is:{self.a**self.b}\"\n",
    "    def sqrt_no(self):\n",
    "        return f\"The square root of  number a  is:{self.a**0.5} and b is {self.b**0.5}\"\n",
    "s=Adv_calculator(10,20)\n",
    "print(s.addition())\n",
    "print(s.sub())\n",
    "print(s.mul())\n",
    "print(s.div())\n",
    "print(s.power())\n",
    "print(s.sqrt_no())"
   ]
  },
  {
   "cell_type": "code",
   "execution_count": 8,
   "id": "c99708fd-9c6c-484e-a9e6-f5499d38c1ff",
   "metadata": {},
   "outputs": [
    {
     "name": "stdout",
     "output_type": "stream",
     "text": [
      "The addition of two numbers is:30\n",
      "The subtraction of two numbers is:-10\n",
      "The multiplication of two numbers is :200\n",
      "The division of two numbers is 0.5\n",
      "The power of two numbers is:100000000000000000000\n",
      "The square root of  number a  is:3.1622776601683795 and b is 4.47213595499958\n"
     ]
    }
   ],
   "source": [
    "#3.Multiple inheritance\n",
    "class simple_calculator:\n",
    "    def __init__(self,a,b):\n",
    "        self.a=a\n",
    "        self.b=b\n",
    "    def addition(self):\n",
    "        return f\"The addition of two numbers is:{self.a+self.b}\"\n",
    "class simple_calculator1:\n",
    "    def __init__(self,a,b):\n",
    "        self.a=a\n",
    "        self.b=b\n",
    "    def sub(self):\n",
    "        return f\"The subtraction of two numbers is:{self.a-self.b}\"\n",
    "    def mul(self):\n",
    "        return f\"The multiplication of two numbers is :{self.a*self.b}\"\n",
    "    def div(self):\n",
    "        return f\"The division of two numbers is {self.a/self.b}\"\n",
    "class Adv_calculator(simple_calculator,simple_calculator1):\n",
    "    def __init__(self,a,b):\n",
    "        simple_calculator.__init__(self,a,b)\n",
    "        simple_calculator1.__init__(self,a,b)\n",
    "    def power(self):\n",
    "        return f\"The power of two numbers is:{self.a**self.b}\"\n",
    "    def sqrt_no(self):\n",
    "        return f\"The square root of  number a  is:{self.a**0.5} and b is {self.b**0.5}\"\n",
    "s=Adv_calculator(10,20)\n",
    "print(s.addition())\n",
    "print(s.sub())\n",
    "print(s.mul())\n",
    "print(s.div())\n",
    "print(s.power())\n",
    "print(s.sqrt_no())"
   ]
  },
  {
   "cell_type": "code",
   "execution_count": 9,
   "id": "ddee9c78-0f50-4b32-be56-f6abc7752354",
   "metadata": {},
   "outputs": [
    {
     "name": "stdout",
     "output_type": "stream",
     "text": [
      "The addition of two numbers is:30\n",
      "The subtraction of two numbers is:-10\n",
      "The multiplication of two numbers is :200\n",
      "The division of two numbers is 0.5\n",
      "The power of two numbers is:100000000000000000000\n",
      "The square root of  number a  is:3.1622776601683795 and b is 4.47213595499958\n"
     ]
    }
   ],
   "source": [
    "#4.Hierarchical inheritance\n",
    "class simple_calculator:\n",
    "    def __init__(self,a,b):\n",
    "        self.a=a\n",
    "        self.b=b\n",
    "    def addition(self):\n",
    "        return f\"The addition of two numbers is:{self.a+self.b}\"\n",
    "class simple_calculator1(simple_calculator):\n",
    "    def __init__(self,a,b):\n",
    "        super().__init__(a,b)\n",
    "    def sub(self):\n",
    "        return f\"The subtraction of two numbers is:{self.a-self.b}\"\n",
    "    def mul(self):\n",
    "        return f\"The multiplication of two numbers is :{self.a*self.b}\"\n",
    "    def div(self):\n",
    "        return f\"The division of two numbers is {self.a/self.b}\"\n",
    "class Adv_calculator(simple_calculator):\n",
    "    def __init__(self,a,b):\n",
    "        super().__init__(a,b)\n",
    "    def power(self):\n",
    "        return f\"The power of two numbers is:{self.a**self.b}\"\n",
    "    def sqrt_no(self):\n",
    "        return f\"The square root of  number a  is:{self.a**0.5} and b is {self.b**0.5}\"\n",
    "s=Adv_calculator(10,20)\n",
    "s1=simple_calculator1(10,20)\n",
    "print(s.addition())\n",
    "print(s1.sub())\n",
    "print(s1.mul())\n",
    "print(s1.div())\n",
    "print(s.power())\n",
    "print(s.sqrt_no())"
   ]
  },
  {
   "cell_type": "code",
   "execution_count": 10,
   "id": "c38d581d-da85-4e8f-9123-790fab64ecdb",
   "metadata": {},
   "outputs": [
    {
     "name": "stdout",
     "output_type": "stream",
     "text": [
      "The addition of two numbers is:30\n",
      "The subtraction of two numbers is:-10\n",
      "The multiplication of two numbers is :200\n",
      "The division of two numbers is 0.5\n",
      "The power of two numbers is:100000000000000000000\n",
      "The square root of  number a  is:3.1622776601683795 and b is 4.47213595499958\n"
     ]
    }
   ],
   "source": [
    "# 5.Hybrid inheritance\n",
    "class simple_calculator:\n",
    "    def __init__(self,a,b):\n",
    "        self.a=a\n",
    "        self.b=b\n",
    "    def addition(self):\n",
    "        return f\"The addition of two numbers is:{self.a+self.b}\"\n",
    "class Adv_calculator:\n",
    "    def __init__(self,a,b):\n",
    "        self.a=a\n",
    "        self.b=b\n",
    "    def power(self):\n",
    "        return f\"The power of two numbers is:{self.a**self.b}\"\n",
    "    def sqrt_no(self):\n",
    "        return f\"The square root of  number a  is:{self.a**0.5} and b is {self.b**0.5}\"\n",
    "class simple_calculator1(simple_calculator,Adv_calculator):\n",
    "    def __init__(self,a,b):\n",
    "        simple_calculator.__init__(self,a,b)\n",
    "        Adv_calculator.__init__(self,a,b)\n",
    "    def sub(self):\n",
    "        return f\"The subtraction of two numbers is:{self.a-self.b}\"\n",
    "class simple_calculator2(Adv_calculator):\n",
    "    def __init__(self,a,b):\n",
    "        super().__init__(a,b)\n",
    "    def mul(self):\n",
    "        return f\"The multiplication of two numbers is :{self.a*self.b}\"\n",
    "    def div(self):\n",
    "        return f\"The division of two numbers is {self.a/self.b}\"\n",
    "s=simple_calculator1(10,20)\n",
    "s1=simple_calculator2(10,20)\n",
    "print(s.addition())\n",
    "print(s.sub())\n",
    "print(s1.mul())\n",
    "print(s1.div())\n",
    "print(s.power())\n",
    "print(s.sqrt_no())"
   ]
  },
  {
   "cell_type": "code",
   "execution_count": null,
   "id": "48329d96-14f2-48b6-a4fd-ab3616f28d45",
   "metadata": {},
   "outputs": [],
   "source": []
  },
  {
   "cell_type": "code",
   "execution_count": null,
   "id": "1de6ffb5-b895-4f17-b4b0-47c887996138",
   "metadata": {},
   "outputs": [],
   "source": []
  },
  {
   "cell_type": "code",
   "execution_count": null,
   "id": "92aac21a-1549-4707-90ea-47edf62296d9",
   "metadata": {},
   "outputs": [],
   "source": []
  }
 ],
 "metadata": {
  "kernelspec": {
   "display_name": "Python 3 (ipykernel)",
   "language": "python",
   "name": "python3"
  },
  "language_info": {
   "codemirror_mode": {
    "name": "ipython",
    "version": 3
   },
   "file_extension": ".py",
   "mimetype": "text/x-python",
   "name": "python",
   "nbconvert_exporter": "python",
   "pygments_lexer": "ipython3",
   "version": "3.13.5"
  }
 },
 "nbformat": 4,
 "nbformat_minor": 5
}
