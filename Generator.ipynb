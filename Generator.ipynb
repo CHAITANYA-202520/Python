{
 "cells": [
  {
   "cell_type": "markdown",
   "id": "99e0bf08-b3c3-4729-b6c2-40bbc20824f9",
   "metadata": {},
   "source": [
    "# Generator\n",
    "  ## Generator is a one type of function if the function definition contains atleast one yield keyword those functions we call it as Generator function.\n",
    "## Syntax:\n",
    "   # def generator_name(parameters):\n",
    "   ##     statements\n",
    "   ##     yield expression\n",
    "   ##     statements"
   ]
  },
  {
   "cell_type": "code",
   "execution_count": 1,
   "id": "c13a28a1-f703-4238-aa85-1e94165d931a",
   "metadata": {},
   "outputs": [
    {
     "name": "stdout",
     "output_type": "stream",
     "text": [
      "5\n"
     ]
    }
   ],
   "source": [
    "#Function\n",
    "def fun(x):\n",
    "    return x\n",
    "    return x+1\n",
    "    return x+2\n",
    "res=fun(5)\n",
    "print(res)"
   ]
  },
  {
   "cell_type": "code",
   "execution_count": 2,
   "id": "62dd0e7e-c39f-449a-bcaf-702cab7ecf91",
   "metadata": {},
   "outputs": [
    {
     "name": "stdout",
     "output_type": "stream",
     "text": [
      "<generator object gen at 0x0000021011C9C580>\n"
     ]
    }
   ],
   "source": [
    "#Generator function\n",
    "def gen(x):\n",
    "    yield x\n",
    "    yield x+1\n",
    "    yield x+2\n",
    "res=gen(5)\n",
    "print(res)"
   ]
  },
  {
   "cell_type": "code",
   "execution_count": 9,
   "id": "ef06e550-2a34-4213-b304-f2a39fc2ddbd",
   "metadata": {
    "scrolled": true
   },
   "outputs": [
    {
     "name": "stdout",
     "output_type": "stream",
     "text": [
      "<generator object gen at 0x0000021011F09540>\n",
      "5\n"
     ]
    }
   ],
   "source": [
    "#Generator function\n",
    "def gen(x):\n",
    "    yield x\n",
    "    yield x+1\n",
    "    yield x+2\n",
    "res=gen(5)\n",
    "print(res)\n",
    "print(next(res))"
   ]
  },
  {
   "cell_type": "code",
   "execution_count": 13,
   "id": "3f0919fe-fd7f-4712-9915-490e06823987",
   "metadata": {},
   "outputs": [
    {
     "name": "stdout",
     "output_type": "stream",
     "text": [
      "<generator object gen at 0x0000021011F09780>\n"
     ]
    }
   ],
   "source": [
    "def gen(x):\n",
    "    i=0\n",
    "    while i<x:\n",
    "        yield i\n",
    "        i+=1\n",
    "print(gen(10))"
   ]
  },
  {
   "cell_type": "code",
   "execution_count": 15,
   "id": "0a09743a-c136-42e3-bbfa-780eec6dd396",
   "metadata": {},
   "outputs": [
    {
     "name": "stdout",
     "output_type": "stream",
     "text": [
      "0\n"
     ]
    }
   ],
   "source": [
    "def fun(x):\n",
    "    i=0\n",
    "    while i<x:\n",
    "        return i\n",
    "        i+=1\n",
    "print(fun(10))"
   ]
  },
  {
   "cell_type": "code",
   "execution_count": 24,
   "id": "c8c06174-cf8b-4b0a-bd4d-698c73c273d7",
   "metadata": {},
   "outputs": [
    {
     "name": "stdout",
     "output_type": "stream",
     "text": [
      "<generator object gen at 0x0000021011F09CC0>\n",
      "0\n",
      "1\n",
      "2\n",
      "3\n",
      "4\n",
      "5\n",
      "6\n",
      "7\n",
      "8\n",
      "9\n"
     ]
    }
   ],
   "source": [
    "def gen(x):\n",
    "    i=0\n",
    "    while i<x:\n",
    "        yield i\n",
    "        i+=1\n",
    "res=gen(10)\n",
    "print(res)\n",
    "#by using next function\n",
    "print(next(res))\n",
    "print(next(res))\n",
    "print(next(res))\n",
    "print(next(res))\n",
    "print(next(res))\n",
    "print(next(res))\n",
    "print(next(res))\n",
    "print(next(res))\n",
    "print(next(res))\n",
    "print(next(res))\n",
    "#print(next(res))\n",
    "# print(next(res))"
   ]
  },
  {
   "cell_type": "markdown",
   "id": "05ef9aaf-08be-48b7-bf55-7fe457fd1b21",
   "metadata": {},
   "source": [
    "# next()\n",
    "  ## The next() function is used to access the next value of generator object.If there is no next value if you try to access the next value of generator object it raises stopIterationError.\n",
    "  ## To overcome stopIterationError by using loops"
   ]
  },
  {
   "cell_type": "code",
   "execution_count": 25,
   "id": "a5c28e1e-ff4b-40f1-932e-c33cebb3c4d6",
   "metadata": {},
   "outputs": [
    {
     "name": "stdout",
     "output_type": "stream",
     "text": [
      "<generator object fun at 0x0000021011F09F00>\n",
      "0\n",
      "1\n",
      "2\n",
      "3\n",
      "4\n"
     ]
    }
   ],
   "source": [
    "def fun(x):\n",
    "    i=0\n",
    "    while i<x:\n",
    "        yield i\n",
    "        i+=1\n",
    "res=fun(5)\n",
    "print(res)\n",
    "for num in res:\n",
    "    print(num)"
   ]
  },
  {
   "cell_type": "code",
   "execution_count": 26,
   "id": "a43cb756-f98f-4ccd-9bd3-6b4f3d4872c5",
   "metadata": {},
   "outputs": [
    {
     "name": "stdout",
     "output_type": "stream",
     "text": [
      "List of 1_000_000 numbers in memory bytes: 8448728\n",
      "<class 'generator'>\n",
      "Generator of 1_000_000 numbers in memory bytes: 192\n"
     ]
    }
   ],
   "source": [
    "#generator takes less memory\n",
    "import sys\n",
    "lst=[x for x in range(1_000_000)]\n",
    "print(\"List of 1_000_000 numbers in memory bytes:\",sys.getsizeof(lst))\n",
    "#generator\n",
    "gen=(x for x in range(1_000_000))\n",
    "print(type(gen))\n",
    "print(\"Generator of 1_000_000 numbers in memory bytes:\",sys.getsizeof(gen))"
   ]
  },
  {
   "cell_type": "code",
   "execution_count": 11,
   "id": "511fdc4a-4645-4390-8332-8bf0d1473403",
   "metadata": {},
   "outputs": [
    {
     "name": "stdin",
     "output_type": "stream",
     "text": [
      " 5\n"
     ]
    },
    {
     "name": "stdout",
     "output_type": "stream",
     "text": [
      "[0, 1, 1, 2, 3]\n"
     ]
    }
   ],
   "source": [
    "#You are given an integer n. Your task is to write a generator function called fibonacci_gen(n) \n",
    "#that yields the first n Fibonacci numbers starting from 0.\n",
    "def fibonacci_gen(n):\n",
    "    a,b=0,1\n",
    "    for _ in range(n):\n",
    "        yield a\n",
    "        a,b=b,a+b\n",
    "n=int(input())\n",
    "res=fibonacci_gen(n)\n",
    "print(list(res))\n",
    "    "
   ]
  },
  {
   "cell_type": "code",
   "execution_count": 29,
   "id": "acc9dff4-9d9e-4d72-b43c-36e9ec46ad6b",
   "metadata": {},
   "outputs": [
    {
     "name": "stdin",
     "output_type": "stream",
     "text": [
      " hello\n"
     ]
    },
    {
     "name": "stdout",
     "output_type": "stream",
     "text": [
      "['h', 'e', 'l', 'l', 'o']\n"
     ]
    }
   ],
   "source": [
    "#Write a generator function that yields each character of a given string one by one.\n",
    "def char(string):\n",
    "    for i in string:\n",
    "        yield i\n",
    "string=input()\n",
    "res=char(string)\n",
    "print(list(res))\n"
   ]
  },
  {
   "cell_type": "code",
   "execution_count": 41,
   "id": "c458f7a9-264d-45c3-83db-8aa8b862c0de",
   "metadata": {},
   "outputs": [
    {
     "name": "stdin",
     "output_type": "stream",
     "text": [
      " 10\n"
     ]
    },
    {
     "name": "stdout",
     "output_type": "stream",
     "text": [
      "0 2 4 6 8 10 "
     ]
    }
   ],
   "source": [
    "#1. Even Numbers Generator\n",
    "# Write a generator function even_numbers(n) that yields even numbers from 0 up to n.\n",
    "\n",
    "# Example:\n",
    "# Input: n = 10\n",
    "# Output: 0 2 4 6 8 10\n",
    "def even_numbers(n):\n",
    "    for i in range(n+1):\n",
    "        if i%2==0:\n",
    "            yield i\n",
    "n=int(input())\n",
    "res=even_numbers(n)\n",
    "for num in res:\n",
    "    print(num,end=\" \")"
   ]
  },
  {
   "cell_type": "code",
   "execution_count": 45,
   "id": "c39d2e14-4227-469c-a9b0-4076151bede6",
   "metadata": {},
   "outputs": [
    {
     "name": "stdin",
     "output_type": "stream",
     "text": [
      " Python\n"
     ]
    },
    {
     "name": "stdout",
     "output_type": "stream",
     "text": [
      "P y t h o n "
     ]
    }
   ],
   "source": [
    "# 2.Characters of a String\n",
    "# Write a generator that yields each character of a string one by one.\n",
    "# Example: Input \"Python\" → Output: 'P' 'y' 't' 'h' 'o' 'n'\n",
    "def character(string):\n",
    "    for i in string:\n",
    "        yield i\n",
    "string=input()\n",
    "res=character(string)\n",
    "for num in res:\n",
    "    print(num,end=\" \")"
   ]
  },
  {
   "cell_type": "code",
   "execution_count": 56,
   "id": "54a6a87e-307f-4b1c-a7bf-e93c6c26abe4",
   "metadata": {},
   "outputs": [
    {
     "name": "stdin",
     "output_type": "stream",
     "text": [
      " 5\n"
     ]
    },
    {
     "name": "stdout",
     "output_type": "stream",
     "text": [
      "1,4,9,16,25\n"
     ]
    }
   ],
   "source": [
    "# 3.Squares of Numbers\n",
    "# Write a generator squares(n) that yields squares of numbers from 1 to n.\n",
    "# Example: n = 5 → Output: 1, 4, 9, 16, 25\n",
    "def squares(n):\n",
    "    for i in range(1,n+1):\n",
    "        yield i**2\n",
    "n=int(input())\n",
    "res=squares(n)\n",
    "print(\",\".join(str(num) for num in res))"
   ]
  },
  {
   "cell_type": "code",
   "execution_count": 57,
   "id": "7f95c239-6419-487a-a4e8-2867f149387f",
   "metadata": {},
   "outputs": [
    {
     "name": "stdin",
     "output_type": "stream",
     "text": [
      " 7\n"
     ]
    },
    {
     "name": "stdout",
     "output_type": "stream",
     "text": [
      "0,1,1,2,3,5,8\n"
     ]
    }
   ],
   "source": [
    "# 4.Fibonacci Sequence Generator\n",
    "# Write a generator fibonacci(n) that yields the first n numbers of the Fibonacci sequence.\n",
    "\n",
    "# Example: n = 7 → Output: 0, 1, 1, 2, 3, 5, 8\n",
    "def fibonacci(n):\n",
    "    a,b=0,1\n",
    "    for i in range(n):\n",
    "        yield a\n",
    "        a,b=b,a+b\n",
    "n=int(input())\n",
    "res=fibonacci(n)\n",
    "print(\",\".join(str(num) for num in res))\n"
   ]
  },
  {
   "cell_type": "code",
   "execution_count": 24,
   "id": "05af278e-3a6a-4f92-aab4-182129249509",
   "metadata": {},
   "outputs": [
    {
     "name": "stdin",
     "output_type": "stream",
     "text": [
      " 20\n"
     ]
    },
    {
     "name": "stdout",
     "output_type": "stream",
     "text": [
      "2,3,5,7,11,13,17,19\n"
     ]
    }
   ],
   "source": [
    "# 5.Prime Number Generator\n",
    "# Write a generator prime_numbers(n) that yields prime numbers up to n.\n",
    "\n",
    "# Example: n = 20 → Output: 2, 3, 5, 7, 11, 13, 17, 19\n",
    "def prime_numbers(n):\n",
    "    for i in range(2,n+1):\n",
    "        is_Prime=True\n",
    "        for j in range(2,i):\n",
    "            if i%j==0:\n",
    "                is_Prime=False\n",
    "                break\n",
    "        if is_Prime:\n",
    "            yield i\n",
    "n=int(input())\n",
    "res=prime_numbers(n)\n",
    "print(\",\".join(str(num) for num in res))\n",
    "            "
   ]
  },
  {
   "cell_type": "code",
   "execution_count": 4,
   "id": "912e1e00-64d2-4b13-8696-5a22c3bf342e",
   "metadata": {},
   "outputs": [
    {
     "name": "stdin",
     "output_type": "stream",
     "text": [
      " hello\n"
     ]
    },
    {
     "name": "stdout",
     "output_type": "stream",
     "text": [
      "o l l e h "
     ]
    }
   ],
   "source": [
    "# 6.Reverse String Generator\n",
    "# Write a generator that yields characters of a string in reverse order.\n",
    "\n",
    "# Example: Input \"hello\" → Output: 'o' 'l' 'l' 'e' 'h'\n",
    "def reverseString(string):\n",
    "    for i in range(len(string)-1,-1,-1):\n",
    "        yield string[i]\n",
    "   \n",
    "string=input()\n",
    "res=reverseString(string)\n",
    "for num in res:\n",
    "    print(num,end=\" \")"
   ]
  },
  {
   "cell_type": "code",
   "execution_count": 15,
   "id": "5e6a0e0b-efc7-4e71-97f9-78acf096bdb8",
   "metadata": {},
   "outputs": [
    {
     "name": "stdout",
     "output_type": "stream",
     "text": [
      "1 3 5 7 9 11 13 15 17 19 "
     ]
    }
   ],
   "source": [
    "# 7.Infinite Odd Numbers Generator\n",
    "# Write a generator that yields infinite odd numbers starting from 1.\n",
    "# (Hint: Use while True: and yield)\n",
    "\n",
    "# Example: 1, 3, 5, 7, 9 ... (You can use next() to stop manually)\n",
    "def oddNum():\n",
    "    x=1\n",
    "    while True:\n",
    "        yield x\n",
    "        x+=2\n",
    "res=oddNum()\n",
    "for num in range(10):\n",
    "    print(next(res),end=\" \")\n",
    "    \n"
   ]
  },
  {
   "cell_type": "code",
   "execution_count": 17,
   "id": "474a334b-4e6e-4d84-9c39-eb747f88d4f5",
   "metadata": {},
   "outputs": [
    {
     "name": "stdout",
     "output_type": "stream",
     "text": [
      "2 4 6 8 10 12 14 16 18 20 "
     ]
    }
   ],
   "source": [
    "#8.Even Numbers Generator\n",
    "def evenNum():\n",
    "    x=2\n",
    "    while True:\n",
    "        yield x\n",
    "        x+=2\n",
    "res=evenNum()\n",
    "for num in range(10):\n",
    "    print(next(res),end=\" \")"
   ]
  }
 ],
 "metadata": {
  "kernelspec": {
   "display_name": "Python 3 (ipykernel)",
   "language": "python",
   "name": "python3"
  },
  "language_info": {
   "codemirror_mode": {
    "name": "ipython",
    "version": 3
   },
   "file_extension": ".py",
   "mimetype": "text/x-python",
   "name": "python",
   "nbconvert_exporter": "python",
   "pygments_lexer": "ipython3",
   "version": "3.13.5"
  }
 },
 "nbformat": 4,
 "nbformat_minor": 5
}
