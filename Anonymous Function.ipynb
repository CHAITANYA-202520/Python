{
 "cells": [
  {
   "cell_type": "code",
   "execution_count": 1,
   "id": "cb085e85-1211-4ea1-92c5-bf758d073469",
   "metadata": {},
   "outputs": [
    {
     "name": "stdout",
     "output_type": "stream",
     "text": [
      "25\n",
      "64\n"
     ]
    }
   ],
   "source": [
    "square=lambda x:x**2\n",
    "print(square(5))\n",
    "print(square(8))"
   ]
  },
  {
   "cell_type": "code",
   "execution_count": 2,
   "id": "fa98a743-5617-4e3a-8e2e-5c8457c6dc92",
   "metadata": {},
   "outputs": [
    {
     "name": "stdout",
     "output_type": "stream",
     "text": [
      "Positive\n",
      "Negative\n"
     ]
    }
   ],
   "source": [
    "state=lambda x:\"Positive\" if x>=0 else \"Negative\"\n",
    "print(state(5))\n",
    "print(state(-8))"
   ]
  },
  {
   "cell_type": "code",
   "execution_count": 6,
   "id": "f1ad878a-416c-4453-b0e9-4570da0473a3",
   "metadata": {},
   "outputs": [
    {
     "name": "stdout",
     "output_type": "stream",
     "text": [
      "[1, 4, 9, 16, 25, 36]\n"
     ]
    }
   ],
   "source": [
    "#map with lambda\n",
    "l=[1,2,3,4,5,6]\n",
    "lst=list(map(lambda x:x**2,l))\n",
    "print(lst)"
   ]
  },
  {
   "cell_type": "code",
   "execution_count": 7,
   "id": "46a6efdd-0b2b-4e1d-a761-93bd6e09ed5a",
   "metadata": {},
   "outputs": [
    {
     "name": "stdout",
     "output_type": "stream",
     "text": [
      "[1, 2, 4]\n"
     ]
    }
   ],
   "source": [
    "#filter with lambda\n",
    "l=[1,2,-3,4,-5]\n",
    "lst=list(filter(lambda x:x>=0,l))\n",
    "print(lst)"
   ]
  },
  {
   "cell_type": "code",
   "execution_count": 8,
   "id": "b6ec16d8-3584-4a90-823b-7e073fedb516",
   "metadata": {},
   "outputs": [
    {
     "name": "stdout",
     "output_type": "stream",
     "text": [
      "[54, 74, 24]\n"
     ]
    }
   ],
   "source": [
    "#find even numbers from list\n",
    "l=[23,43,54,65,74,24]\n",
    "lst=list(filter(lambda x:x%2==0,l))\n",
    "print(lst)"
   ]
  },
  {
   "cell_type": "code",
   "execution_count": 10,
   "id": "df864111-c57c-4f9e-9bde-733f9895e935",
   "metadata": {},
   "outputs": [
    {
     "name": "stdout",
     "output_type": "stream",
     "text": [
      "AWbCcjyu\n"
     ]
    }
   ],
   "source": [
    "#list of numbers to strings\n",
    "l=[65,87,98,67,99,106,121,117]\n",
    "print(\"\".join(list(map(lambda x:chr(x),l))))"
   ]
  },
  {
   "cell_type": "code",
   "execution_count": 16,
   "id": "7dba4988-85b1-4046-91c4-d87dc40f2388",
   "metadata": {},
   "outputs": [
    {
     "name": "stdout",
     "output_type": "stream",
     "text": [
      "['apple', 'banana', 'cherry', 'orange']\n"
     ]
    }
   ],
   "source": [
    "l=['apple','orange','banana','cherry']\n",
    "l.sort()\n",
    "print(l)"
   ]
  },
  {
   "cell_type": "code",
   "execution_count": 17,
   "id": "c4fdeb6d-75e0-44b5-9ca3-d6938ef1b8f4",
   "metadata": {},
   "outputs": [
    {
     "name": "stdout",
     "output_type": "stream",
     "text": [
      "['apple', 'orange', 'cherry', 'banana']\n"
     ]
    }
   ],
   "source": [
    "l=['apple','orange','cherry','banana']\n",
    "l.sort(key=lambda x:len(x))\n",
    "print(l)"
   ]
  },
  {
   "cell_type": "code",
   "execution_count": 18,
   "id": "5b61f22f-0f43-44af-8f15-189dfc6f62d6",
   "metadata": {},
   "outputs": [
    {
     "name": "stdout",
     "output_type": "stream",
     "text": [
      "{'C': 1, 'o': 1, 'd': 1, 'e': 1, 'g': 1, 'n': 2, 'a': 1}\n"
     ]
    }
   ],
   "source": [
    "s=\"Codegnan\"\n",
    "d={}\n",
    "for char in s:\n",
    "    if char in d:\n",
    "        d[char]+=1\n",
    "    else:\n",
    "        d[char]=1\n",
    "print(d)"
   ]
  },
  {
   "cell_type": "code",
   "execution_count": 23,
   "id": "e7a289d4-7df4-40f9-9969-925ed353daf9",
   "metadata": {},
   "outputs": [
    {
     "name": "stdout",
     "output_type": "stream",
     "text": [
      "[('n', 2), ('C', 1), ('o', 1), ('d', 1), ('e', 1), ('g', 1), ('a', 1)]\n"
     ]
    }
   ],
   "source": [
    "sorted_dict=sorted(d.items(),key=lambda x:x[1],reverse=True)\n",
    "print(sorted_dict)"
   ]
  },
  {
   "cell_type": "code",
   "execution_count": 24,
   "id": "01af356e-ae9f-4d40-ab1c-87ae58451191",
   "metadata": {},
   "outputs": [
    {
     "name": "stdout",
     "output_type": "stream",
     "text": [
      "dict_items([('C', 1), ('o', 1), ('d', 1), ('e', 1), ('g', 1), ('n', 2), ('a', 1)])\n"
     ]
    }
   ],
   "source": [
    "print(d.items())"
   ]
  },
  {
   "cell_type": "code",
   "execution_count": 25,
   "id": "c052f727-1a30-4302-b13e-b027daba2b0e",
   "metadata": {},
   "outputs": [
    {
     "name": "stdout",
     "output_type": "stream",
     "text": [
      "n-2\n",
      "o-1\n",
      "g-1\n",
      "e-1\n",
      "d-1\n",
      "a-1\n",
      "C-1\n"
     ]
    }
   ],
   "source": [
    "sorted_dict=sorted(d.items(),key=lambda x:(x[1],x[0]),reverse=True)\n",
    "for key,val in sorted_dict:\n",
    "    print(f\"{key}-{val}\")"
   ]
  },
  {
   "cell_type": "code",
   "execution_count": 26,
   "id": "6448761e-8207-4fba-8540-bbd3e08d26a0",
   "metadata": {},
   "outputs": [
    {
     "name": "stdout",
     "output_type": "stream",
     "text": [
      "[2, 4, 6, 8, 10]\n"
     ]
    }
   ],
   "source": [
    "#list comprehension\n",
    "#1-10 even numbers\n",
    "l=[x for x in range(1,11) if x%2==0]\n",
    "print(l)"
   ]
  },
  {
   "cell_type": "code",
   "execution_count": 27,
   "id": "7a8124c1-c186-47f8-a2c2-aa7168db5015",
   "metadata": {},
   "outputs": [
    {
     "name": "stdout",
     "output_type": "stream",
     "text": [
      "[0, 2, 4, 6, 8, 10]\n"
     ]
    }
   ],
   "source": [
    "l=[x for x in range(0,11,2)]\n",
    "print(l)"
   ]
  },
  {
   "cell_type": "code",
   "execution_count": 3,
   "id": "a82285c0-f131-4bf9-9f67-10629d8ed2fd",
   "metadata": {},
   "outputs": [
    {
     "name": "stdout",
     "output_type": "stream",
     "text": [
      "[1, 3, 6, 10, 15, 21]\n"
     ]
    }
   ],
   "source": [
    "b#prefix sum\n",
    "l=[1,2,3,4,5,6]\n",
    "pre_sum=[]\n",
    "res=0\n",
    "n=len(l)\n",
    "for i in range(n):\n",
    "    res+=l[i]\n",
    "    pre_sum.append(res)\n",
    "print(pre_sum)"
   ]
  },
  {
   "cell_type": "code",
   "execution_count": null,
   "id": "5939b0fb-d9aa-47ca-a358-a9e3a0ca26ee",
   "metadata": {},
   "outputs": [],
   "source": [
    "#sufix sum\n",
    "l=[1,2,3,4,5,6]\n",
    "res=0\n",
    "suf_sum=[]\n",
    "n=len(l)\n",
    "for i in range(n-1,-1,-1):\n",
    "    res+=l[i]\n",
    "    suf_sum.append(res)\n",
    "print(suf_sum)"
   ]
  }
 ],
 "metadata": {
  "kernelspec": {
   "display_name": "Python 3 (ipykernel)",
   "language": "python",
   "name": "python3"
  },
  "language_info": {
   "codemirror_mode": {
    "name": "ipython",
    "version": 3
   },
   "file_extension": ".py",
   "mimetype": "text/x-python",
   "name": "python",
   "nbconvert_exporter": "python",
   "pygments_lexer": "ipython3",
   "version": "3.13.5"
  }
 },
 "nbformat": 4,
 "nbformat_minor": 5
}
