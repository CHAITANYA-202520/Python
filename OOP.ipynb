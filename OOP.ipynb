{
 "cells": [
  {
   "cell_type": "code",
   "execution_count": null,
   "id": "17707f57-cff7-49db-9d32-5679c4abe4c2",
   "metadata": {},
   "outputs": [],
   "source": [
    "#class syntax\n",
    "class class_name:\n",
    "    #attributes\n",
    "    #methods"
   ]
  },
  {
   "cell_type": "code",
   "execution_count": 1,
   "id": "a84cf5ed-b652-422a-9861-fabb467ca215",
   "metadata": {},
   "outputs": [
    {
     "data": {
      "text/plain": [
       "95"
      ]
     },
     "execution_count": 1,
     "metadata": {},
     "output_type": "execute_result"
    }
   ],
   "source": [
    "class Student:\n",
    "    #attributes\n",
    "    school=\"ABC school\"\n",
    "    name=\"chaitanya\"\n",
    "    marks=95\n",
    "s1=Student()\n",
    "s1.marks"
   ]
  },
  {
   "cell_type": "code",
   "execution_count": 2,
   "id": "51349c93-592f-42c7-87c9-29dc23aff05d",
   "metadata": {},
   "outputs": [
    {
     "name": "stdout",
     "output_type": "stream",
     "text": [
      "ABC school\n",
      "95\n",
      "chaitanya\n"
     ]
    }
   ],
   "source": [
    "print(s1.school)\n",
    "print(s1.marks)\n",
    "print(s1.name)"
   ]
  },
  {
   "cell_type": "code",
   "execution_count": 3,
   "id": "3af34a05-f1f4-48c1-bf70-a2a00b2f7c3b",
   "metadata": {},
   "outputs": [
    {
     "name": "stdout",
     "output_type": "stream",
     "text": [
      "25\n",
      "ABC school\n"
     ]
    }
   ],
   "source": [
    "class Student:\n",
    "    #attributes\n",
    "    school=\"ABC school\"#class attribute\n",
    "    def __init__(self,name,marks):\n",
    "        self.name=name#instance attribute\n",
    "        self.marks=marks\n",
    "s1=Student(\"Codegnan\",25)\n",
    "print(s1.marks)\n",
    "print(s1.school)\n",
    "        "
   ]
  },
  {
   "cell_type": "code",
   "execution_count": 2,
   "id": "99a22e33-f317-4629-a0f5-1d89de818346",
   "metadata": {},
   "outputs": [
    {
     "name": "stdout",
     "output_type": "stream",
     "text": [
      "Geetha\n",
      "96\n",
      "ABC school\n",
      "Ravi\n",
      "95\n",
      "ABC school\n"
     ]
    }
   ],
   "source": [
    "class Student:\n",
    "    #attributes\n",
    "    school=\"ABC school\"#class attribute\n",
    "    def __init__(self,name,marks):\n",
    "        self.name=name#instance attribute\n",
    "        self.marks=marks\n",
    "s1=Student(\"Geetha\",96)\n",
    "s2=Student(\"Ravi\",95)\n",
    "print(s1.name)\n",
    "print(s1.marks)\n",
    "print(s1.school)\n",
    "print(s2.name)\n",
    "print(s2.marks)\n",
    "print(s2.school)"
   ]
  },
  {
   "cell_type": "code",
   "execution_count": 4,
   "id": "e1c39523-e5c0-4201-a23b-207e7388ee0c",
   "metadata": {},
   "outputs": [
    {
     "name": "stdout",
     "output_type": "stream",
     "text": [
      "This is function __init__\n",
      "This is function __init__\n",
      "Student1 name is : Geetha\n",
      "Student1 name is after updation: Hari\n",
      "Student1 school name is after updation: XYZ School\n",
      "Student2 school name is : ABC School\n"
     ]
    }
   ],
   "source": [
    "class Student:\n",
    "    #attributes\n",
    "    school=\"ABC School\"#class attribute\n",
    "    def __init__(self,name,marks):\n",
    "        self.name=name#instance attribute\n",
    "        self.marks=marks\n",
    "        print(\"This is function __init__\")\n",
    "s1=Student(\"Geetha\",96)#creating object\n",
    "s2=Student(\"Ravi\",95)\n",
    "print(\"Student1 name is :\",s1.name)\n",
    "s1.name=\"Hari\"#Attribute update\n",
    "print(\"Student1 name is after updation:\",s1.name)\n",
    "s1.school=\"XYZ School\"\n",
    "print(\"Student1 school name is after updation:\",s1.school)\n",
    "print(\"Student2 school name is :\",s2.school)\n",
    "\n"
   ]
  },
  {
   "cell_type": "code",
   "execution_count": 5,
   "id": "663b04fa-4cbe-4a76-861e-4ed535a11615",
   "metadata": {},
   "outputs": [
    {
     "name": "stdout",
     "output_type": "stream",
     "text": [
      "Student name is Geetha and marks is 96\n"
     ]
    }
   ],
   "source": [
    "class Student:\n",
    "    #Attribute\n",
    "    school=\"ABC School\"#class attribute\n",
    "    def __init__(self,name,marks):\n",
    "        self.name=name#instance attribute\n",
    "        self.marks=marks\n",
    "    #method\n",
    "    def display(self):\n",
    "        print(f\"Student name is {self.name} and marks is {self.marks}\")\n",
    "s1=Student(\"Geetha\",96)#creat object\n",
    "s2=Student(\"Ravi\",95)\n",
    "s1.display()"
   ]
  },
  {
   "cell_type": "code",
   "execution_count": 8,
   "id": "03aa9b04-ddba-473e-8fd6-9a050689ec19",
   "metadata": {},
   "outputs": [
    {
     "name": "stdout",
     "output_type": "stream",
     "text": [
      "Student name is Geetha and marks is 96\n",
      "Ravi\n",
      "Student name is Ravi and marks is 95\n"
     ]
    }
   ],
   "source": [
    "class Student:\n",
    "    #Attribute\n",
    "    school=\"ABC School\"#class attribute\n",
    "    def __init__(self,name,marks):\n",
    "        self.name=name#instance attribute\n",
    "        self.marks=marks\n",
    "    #method\n",
    "    def display(self):\n",
    "        return f\"Student name is {self.name} and marks is {self.marks}\"\n",
    "s1=Student(\"Geetha\",96)#creat object\n",
    "s2=Student(\"Ravi\",95)\n",
    "print(s1.display())\n",
    "print(s2.name)\n",
    "print(s2.display())"
   ]
  },
  {
   "cell_type": "code",
   "execution_count": 9,
   "id": "f122ed88-9338-42c8-b9c8-2da5628d3f0d",
   "metadata": {},
   "outputs": [
    {
     "name": "stdout",
     "output_type": "stream",
     "text": [
      "Student name is Geetha and marks is 96\n",
      "None\n"
     ]
    }
   ],
   "source": [
    "class Student:\n",
    "    #Attribute\n",
    "    school=\"ABC School\"#class attribute\n",
    "    def __init__(self,name,marks):\n",
    "        self.name=name#instance attribute\n",
    "        self.marks=marks\n",
    "    #method\n",
    "    def display(self):\n",
    "        print(f\"Student name is {self.name} and marks is {self.marks}\")\n",
    "s1=Student(\"Geetha\",96)#creat object\n",
    "s2=Student(\"Ravi\",95)\n",
    "res=s1.display()\n",
    "print(res)"
   ]
  }
 ],
 "metadata": {
  "kernelspec": {
   "display_name": "Python 3 (ipykernel)",
   "language": "python",
   "name": "python3"
  },
  "language_info": {
   "codemirror_mode": {
    "name": "ipython",
    "version": 3
   },
   "file_extension": ".py",
   "mimetype": "text/x-python",
   "name": "python",
   "nbconvert_exporter": "python",
   "pygments_lexer": "ipython3",
   "version": "3.13.5"
  }
 },
 "nbformat": 4,
 "nbformat_minor": 5
}
