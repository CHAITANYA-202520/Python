{
 "cells": [
  {
   "cell_type": "code",
   "execution_count": 7,
   "id": "6cf2b995-4931-4fa8-bb3b-90fe3eb895e5",
   "metadata": {},
   "outputs": [
    {
     "name": "stdin",
     "output_type": "stream",
     "text": [
      " 10\n"
     ]
    },
    {
     "name": "stdout",
     "output_type": "stream",
     "text": [
      "Even numbers for first 10 is [0, 2, 4, 6, 8, 10, 12, 14, 16, 18]\n"
     ]
    }
   ],
   "source": [
    "def evenNum(n):\n",
    "    e=[]\n",
    "    for i in range(0,n*2):\n",
    "        if i%2==0:\n",
    "            e.append(i)\n",
    "    return f\"Even numbers for first {n} is {e}\"\n",
    "n=int(input())\n",
    "res=evenNum(n)\n",
    "print(res)\n"
   ]
  },
  {
   "cell_type": "code",
   "execution_count": 9,
   "id": "13846987-f692-4472-be96-6b945dc067e9",
   "metadata": {},
   "outputs": [
    {
     "name": "stdin",
     "output_type": "stream",
     "text": [
      " 10\n"
     ]
    },
    {
     "name": "stdout",
     "output_type": "stream",
     "text": [
      "Odd numbers for first 10 is [1, 3, 5, 7, 9, 11, 13, 15, 17, 19]\n"
     ]
    }
   ],
   "source": [
    "def oddNum(n):\n",
    "    o=[]\n",
    "    for i in range(0,n*2):\n",
    "        if i%2!=0:\n",
    "            o.append(i)\n",
    "    return f\"Odd numbers for first {n} is {o}\"\n",
    "n=int(input())\n",
    "res=oddNum(n)\n",
    "print(res)\n"
   ]
  },
  {
   "cell_type": "code",
   "execution_count": 3,
   "id": "04f5db9c-bd4e-4a9c-a8bf-3bfca8a69572",
   "metadata": {},
   "outputs": [
    {
     "name": "stdout",
     "output_type": "stream",
     "text": [
      "[0, 2, 4, 6, 8, 10, 12, 14, 16, 18]\n"
     ]
    }
   ],
   "source": [
    "def first_n_even(n):\n",
    "    l=[]\n",
    "    for i in range(n):\n",
    "        l.append(2*i)\n",
    "    return l\n",
    "res=first_n_even(10)\n",
    "print(res)\n",
    "        \n",
    "\n"
   ]
  },
  {
   "cell_type": "code",
   "execution_count": 4,
   "id": "d85151e5-2ba3-4e5c-b3c2-b815164af770",
   "metadata": {},
   "outputs": [
    {
     "name": "stdout",
     "output_type": "stream",
     "text": [
      "[1, 3, 5, 7, 9, 11, 13, 15, 17, 19]\n"
     ]
    }
   ],
   "source": [
    "def first_n_even(n):\n",
    "    l=[]\n",
    "    for i in range(n):\n",
    "        l.append(2*i+1)\n",
    "    return l\n",
    "res=first_n_even(10)\n",
    "print(res)\n",
    "        \n"
   ]
  },
  {
   "cell_type": "code",
   "execution_count": 6,
   "id": "acaecda9-06d9-4c97-90b3-fb4304fdc8ce",
   "metadata": {},
   "outputs": [
    {
     "name": "stdout",
     "output_type": "stream",
     "text": [
      "100\n",
      "[1, 3, 5, 7, 9, 11, 13, 15, 17, 19]\n",
      "1 3 5 7 9 11 13 15 17 19\n"
     ]
    }
   ],
   "source": [
    "def first_n_even(n):\n",
    "    l=[]\n",
    "    s=0\n",
    "    for i in range(n):\n",
    "        l.append(2*i+1)\n",
    "        s+=2*i+1\n",
    "    return s,l\n",
    "s,l=first_n_even(10)\n",
    "print(s)\n",
    "print(l)\n",
    "print(*l)"
   ]
  },
  {
   "cell_type": "markdown",
   "id": "66e9802e-8bee-4a0d-95b8-174477b4b061",
   "metadata": {},
   "source": [
    "# Built in Functions\n",
    "-The functions are provided by python,without implementation and without importing from other modules.\n",
    "1.len()\n",
    "2.min()\n",
    "3.max()\n",
    "4.sum()\n",
    "5.print()\n",
    "6.input()\n",
    "7.map()\n",
    "8.filter()\n",
    "9.ord()\n",
    "10.chr()\n",
    "11.enumerate()\n",
    "12.abs()\n",
    "13.reversed()\n",
    "14.zip()\n",
    "15.any()\n",
    "16.all()"
   ]
  },
  {
   "cell_type": "code",
   "execution_count": 8,
   "id": "016e45d2-8f22-4aae-9d92-efb8629fec2d",
   "metadata": {},
   "outputs": [
    {
     "name": "stdout",
     "output_type": "stream",
     "text": [
      "5\n"
     ]
    }
   ],
   "source": [
    "#len()-It returns the number of elements in the list\n",
    "l=[1,2,3,4,5]\n",
    "print(len(l))"
   ]
  },
  {
   "cell_type": "code",
   "execution_count": 9,
   "id": "359d2577-02bc-46d6-8dd9-6171d4cea3c5",
   "metadata": {},
   "outputs": [
    {
     "name": "stdout",
     "output_type": "stream",
     "text": [
      "1\n"
     ]
    }
   ],
   "source": [
    "#min()-It returns the minimum element in the list\n",
    "print(min(l))"
   ]
  },
  {
   "cell_type": "code",
   "execution_count": 10,
   "id": "a0e0a9be-46ab-4058-90ae-d4fac465a2ce",
   "metadata": {},
   "outputs": [
    {
     "name": "stdout",
     "output_type": "stream",
     "text": [
      "5\n"
     ]
    }
   ],
   "source": [
    "#max()-It returns the maximum element in the list\n",
    "print(max(l))"
   ]
  },
  {
   "cell_type": "code",
   "execution_count": 11,
   "id": "b41db0ee-041b-4c5e-ba16-554c043ac0f2",
   "metadata": {},
   "outputs": [
    {
     "name": "stdout",
     "output_type": "stream",
     "text": [
      "15\n"
     ]
    }
   ],
   "source": [
    "#sum()-It returns the sum of elements in the list.\n",
    "print(sum(l))"
   ]
  },
  {
   "cell_type": "code",
   "execution_count": 12,
   "id": "d671f0f2-050b-413a-8490-1ae17936d99e",
   "metadata": {},
   "outputs": [
    {
     "name": "stdout",
     "output_type": "stream",
     "text": [
      "[1, 2, 3, 4, 5]\n"
     ]
    }
   ],
   "source": [
    "#print()-It is used to display the original information \n",
    "print(l)"
   ]
  },
  {
   "cell_type": "code",
   "execution_count": 13,
   "id": "0fa62dc7-f798-4a95-a1b0-55165f87b8b6",
   "metadata": {},
   "outputs": [
    {
     "name": "stdin",
     "output_type": "stream",
     "text": [
      " 10\n"
     ]
    },
    {
     "name": "stdout",
     "output_type": "stream",
     "text": [
      "10\n"
     ]
    }
   ],
   "source": [
    "#input()-It is used to give the inputs from the user\n",
    "n=int(input())\n",
    "print(n)\n"
   ]
  },
  {
   "cell_type": "code",
   "execution_count": 16,
   "id": "273a16d3-d0f6-49a7-9237-ddece2079709",
   "metadata": {},
   "outputs": [
    {
     "data": {
      "text/plain": [
       "[6, 7, 8, 9, 10]"
      ]
     },
     "execution_count": 16,
     "metadata": {},
     "output_type": "execute_result"
    }
   ],
   "source": [
    "#map()-It apply the function on each element in the sequence\n",
    "def add(x):\n",
    "    return x+5\n",
    "l=[1,2,3,4,5]\n",
    "list(map(add,l))"
   ]
  },
  {
   "cell_type": "code",
   "execution_count": 18,
   "id": "21068f76-6e8c-447c-b33c-8d85bc1c26a0",
   "metadata": {},
   "outputs": [
    {
     "data": {
      "text/plain": [
       "(6, 7, 8, 9, 10)"
      ]
     },
     "execution_count": 18,
     "metadata": {},
     "output_type": "execute_result"
    }
   ],
   "source": [
    "def add(x):\n",
    "    return x+5\n",
    "l=[1,2,3,4,5]\n",
    "tuple(map(add,l))"
   ]
  },
  {
   "cell_type": "code",
   "execution_count": 22,
   "id": "b5777610-42f1-48f8-a7b9-66bb78bd3d24",
   "metadata": {},
   "outputs": [
    {
     "data": {
      "text/plain": [
       "[None, 2, None, 4, None]"
      ]
     },
     "execution_count": 22,
     "metadata": {},
     "output_type": "execute_result"
    }
   ],
   "source": [
    "def add(x):\n",
    "    if x%2==0:\n",
    "        return x\n",
    "l=[1,2,3,4,5]\n",
    "list(map(add,l))"
   ]
  },
  {
   "cell_type": "code",
   "execution_count": 23,
   "id": "a86f30f1-94ca-4b78-8fd6-a810f2c14a6b",
   "metadata": {},
   "outputs": [
    {
     "data": {
      "text/plain": [
       "(2, 4)"
      ]
     },
     "execution_count": 23,
     "metadata": {},
     "output_type": "execute_result"
    }
   ],
   "source": [
    "#filter()-The filter() in python is used to pick only th  item that meets the condition from the list or other collection.\n",
    "def add(x):\n",
    "    if x%2==0:\n",
    "        return x\n",
    "l=[1,2,3,4,5]\n",
    "tuple(filter(add,l))"
   ]
  },
  {
   "cell_type": "code",
   "execution_count": 26,
   "id": "88d9a8f7-17a2-4b73-82c1-9e206a0826e4",
   "metadata": {},
   "outputs": [
    {
     "name": "stdout",
     "output_type": "stream",
     "text": [
      "65\n",
      "97\n",
      "90\n",
      "122\n"
     ]
    }
   ],
   "source": [
    "#ord()-It returns the ASCII value\n",
    "print(ord('A'))\n",
    "print(ord('a'))\n",
    "print(ord('Z'))\n",
    "print(ord('z'))\n",
    "#print(ord('ab'))"
   ]
  },
  {
   "cell_type": "code",
   "execution_count": 27,
   "id": "b9bcb466-933b-43c4-b359-c5c89702589b",
   "metadata": {},
   "outputs": [
    {
     "name": "stdout",
     "output_type": "stream",
     "text": [
      "A\n",
      "a\n",
      "Z\n",
      "z\n"
     ]
    }
   ],
   "source": [
    "#chr()-It converts number to character conversion\n",
    "print(chr(65))\n",
    "print(chr(97))\n",
    "print(chr(90))\n",
    "print(chr(122))"
   ]
  },
  {
   "cell_type": "code",
   "execution_count": 30,
   "id": "f3d11d82-f329-4ad8-aa72-e051d14df352",
   "metadata": {},
   "outputs": [
    {
     "name": "stdout",
     "output_type": "stream",
     "text": [
      "<enumerate object at 0x000002884F54E520>\n",
      "[(0, 'a'), (1, 'b'), (2, 'c'), (3, 'd'), (4, 'e')]\n"
     ]
    }
   ],
   "source": [
    "#enumerate()-It return the list of tuple index and value pairs\n",
    "l=['a','b','c','d','e']\n",
    "print(enumerate(l))\n",
    "print(list(enumerate(l)))"
   ]
  },
  {
   "cell_type": "code",
   "execution_count": 31,
   "id": "f4991e69-3b7d-4a73-a487-524d36751ecc",
   "metadata": {},
   "outputs": [
    {
     "name": "stdout",
     "output_type": "stream",
     "text": [
      "0 a\n",
      "1 b\n",
      "2 c\n",
      "3 d\n"
     ]
    }
   ],
   "source": [
    "l=['a','b','c','d']\n",
    "for ind,val in enumerate(l):\n",
    "    print(ind,val)"
   ]
  },
  {
   "cell_type": "code",
   "execution_count": 32,
   "id": "6edb85c4-efbc-4413-83cc-c2f4561ac6fc",
   "metadata": {},
   "outputs": [
    {
     "name": "stdout",
     "output_type": "stream",
     "text": [
      "5\n"
     ]
    }
   ],
   "source": [
    "#abs()-It returns the absolute difference between two numbers.\n",
    "a,b=5,10\n",
    "print(abs(a-b))"
   ]
  },
  {
   "cell_type": "code",
   "execution_count": 3,
   "id": "9c3760b1-3053-4cfc-a68f-d1590c4a0313",
   "metadata": {},
   "outputs": [
    {
     "name": "stdout",
     "output_type": "stream",
     "text": [
      "<list_reverseiterator object at 0x000001C0331400D0>\n",
      "[3, 2, 1]\n",
      "()\n"
     ]
    }
   ],
   "source": [
    "#reversed()-It returns the reverse values of sequence\n",
    "res=reversed([1,2,3])\n",
    "print(res)\n",
    "print(list(res))"
   ]
  },
  {
   "cell_type": "code",
   "execution_count": 5,
   "id": "b0686a53-98f6-4e1f-96b7-d3231381fc3c",
   "metadata": {},
   "outputs": [
    {
     "name": "stdout",
     "output_type": "stream",
     "text": [
      "<reversed object at 0x000001C033140280>\n",
      "['n', 'a', 'n', 'g', 'e', 'd', 'o', 'C']\n"
     ]
    }
   ],
   "source": [
    "res=reversed('Codegnan')\n",
    "print(res)\n",
    "print(list(res))"
   ]
  },
  {
   "cell_type": "code",
   "execution_count": 25,
   "id": "89c5bd52-fa83-4131-92eb-111a9af8bdca",
   "metadata": {},
   "outputs": [
    {
     "name": "stdout",
     "output_type": "stream",
     "text": [
      "<zip object at 0x000001C033731380>\n",
      "[(1, 'a'), (2, 'b'), (3, 'c'), (4, 'd'), (5, 'e')]\n",
      "[(1, 'a', 1), (2, 'b', 2), (3, 'c', 3)]\n"
     ]
    }
   ],
   "source": [
    "#zip()-It returns the list of tuple values\n",
    "l1=[1,2,3,4,5]\n",
    "l2=['a','b','c','d','e']\n",
    "l3=[10,20,30,40,50]\n",
    "l3=[1,2,3]\n",
    "print(zip(l1))\n",
    "print(list(zip(l1,l2)))\n",
    "print(list(zip(l1,l2,l3)))"
   ]
  },
  {
   "cell_type": "code",
   "execution_count": 18,
   "id": "a65b9168-2e6c-4957-88ec-160cf82b6b1e",
   "metadata": {},
   "outputs": [
    {
     "name": "stdout",
     "output_type": "stream",
     "text": [
      "True\n",
      "True\n",
      "False\n"
     ]
    }
   ],
   "source": [
    "#any()-It returns true,when any one element from sequence are truthy.\n",
    "print(any([1,2,3,4]))\n",
    "print(any([0,1,2,32]))\n",
    "print(any([0,0,0]))"
   ]
  },
  {
   "cell_type": "code",
   "execution_count": 21,
   "id": "6268ce06-0305-40ed-9e2a-74e9c8b9f66d",
   "metadata": {},
   "outputs": [
    {
     "name": "stdout",
     "output_type": "stream",
     "text": [
      "True\n",
      "False\n",
      "True\n"
     ]
    }
   ],
   "source": [
    "#all()-It returns true when all sequence elements are truthy.\n",
    "print(all([1,2,3]))\n",
    "print(all([1,2,3,4,0]))\n",
    "print(all([1,'abc',3,4]))"
   ]
  },
  {
   "cell_type": "code",
   "execution_count": null,
   "id": "3807cacc-78b0-4500-8040-df4b764fa8a0",
   "metadata": {},
   "outputs": [],
   "source": []
  }
 ],
 "metadata": {
  "kernelspec": {
   "display_name": "Python 3 (ipykernel)",
   "language": "python",
   "name": "python3"
  },
  "language_info": {
   "codemirror_mode": {
    "name": "ipython",
    "version": 3
   },
   "file_extension": ".py",
   "mimetype": "text/x-python",
   "name": "python",
   "nbconvert_exporter": "python",
   "pygments_lexer": "ipython3",
   "version": "3.13.5"
  }
 },
 "nbformat": 4,
 "nbformat_minor": 5
}
