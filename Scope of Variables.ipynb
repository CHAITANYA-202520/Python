{
 "cells": [
  {
   "cell_type": "code",
   "execution_count": 3,
   "id": "8085d8bd-2de0-451d-881a-6c7bc0428be8",
   "metadata": {},
   "outputs": [
    {
     "name": "stdin",
     "output_type": "stream",
     "text": [
      " 8\n"
     ]
    },
    {
     "name": "stdout",
     "output_type": "stream",
     "text": [
      "8 is not a perfect square\n"
     ]
    }
   ],
   "source": [
    "#check whether a given number is a perfect square or not.\n",
    "num=int(input())\n",
    "val=int(num**0.5)\n",
    "if val*val==num:\n",
    "    print(f\"{num} is a perfect square\")\n",
    "else:\n",
    "    print(f\"{num} is not a perfect square\")"
   ]
  },
  {
   "cell_type": "code",
   "execution_count": 4,
   "id": "8b86060b-87ef-4e9f-8cb2-a93ed765aa20",
   "metadata": {},
   "outputs": [
    {
     "name": "stdout",
     "output_type": "stream",
     "text": [
      "<class 'tuple'>\n",
      "(15, 20, 25, 43, 60)\n",
      "163\n"
     ]
    }
   ],
   "source": [
    "#4.variable length arguments\n",
    "#function definition\n",
    "def addition(a,*args):\n",
    "    print(type(args))\n",
    "    print(args)\n",
    "    s=0\n",
    "    for num in args:\n",
    "        s+=num\n",
    "    return s\n",
    "#function definition\n",
    "res=addition(10,15,20,25,43,60)\n",
    "print(res)"
   ]
  },
  {
   "cell_type": "code",
   "execution_count": 5,
   "id": "bbeaab57-6121-456b-bc0e-1278ebf1f53a",
   "metadata": {},
   "outputs": [
    {
     "name": "stdout",
     "output_type": "stream",
     "text": [
      "<class 'dict'>\n",
      "10 {'b': 20, 'c': 30, 'd': 40}\n",
      "90\n"
     ]
    }
   ],
   "source": [
    "#5.variable length keywod argument\n",
    "# function definition\n",
    "def addition(a,**kwargs):\n",
    "    print(type(kwargs))\n",
    "    print(a,kwargs)\n",
    "    s=0\n",
    "    for val in kwargs.values():\n",
    "        s+=val\n",
    "    return s\n",
    "#function calling\n",
    "res=addition(10,b=20,c=30,d=40)\n",
    "print(res)"
   ]
  },
  {
   "cell_type": "markdown",
   "id": "9351b24f-b39b-4729-8092-ea68e2e22344",
   "metadata": {},
   "source": [
    "# Scope of Variables\n",
    " # 1.Local Variable\n",
    " # 2.Global Variable\n",
    " # 3.Non local Variable\n",
    " "
   ]
  },
  {
   "cell_type": "code",
   "execution_count": 6,
   "id": "90937504-f317-4d33-bc6e-bf60f5e9972f",
   "metadata": {},
   "outputs": [
    {
     "name": "stdout",
     "output_type": "stream",
     "text": [
      "15\n"
     ]
    },
    {
     "ename": "NameError",
     "evalue": "name 'x' is not defined",
     "output_type": "error",
     "traceback": [
      "\u001b[31m---------------------------------------------------------------------------\u001b[39m",
      "\u001b[31mNameError\u001b[39m                                 Traceback (most recent call last)",
      "\u001b[36mCell\u001b[39m\u001b[36m \u001b[39m\u001b[32mIn[6]\u001b[39m\u001b[32m, line 7\u001b[39m\n\u001b[32m      5\u001b[39m     \u001b[38;5;28mprint\u001b[39m(x)\n\u001b[32m      6\u001b[39m fun()\n\u001b[32m----> \u001b[39m\u001b[32m7\u001b[39m \u001b[38;5;28mprint\u001b[39m(\u001b[43mx\u001b[49m)\n",
      "\u001b[31mNameError\u001b[39m: name 'x' is not defined"
     ]
    }
   ],
   "source": [
    "# 1.Local Variable- The variable that can access the inside the function,then those variables called local variables.\n",
    "def fun():\n",
    "    x=10#local variable \n",
    "    x=x+5\n",
    "    print(x)\n",
    "fun()\n",
    "print(x)"
   ]
  },
  {
   "cell_type": "code",
   "execution_count": 8,
   "id": "766c5543-786f-4abe-93e2-7ae3adeffa4d",
   "metadata": {},
   "outputs": [
    {
     "name": "stdout",
     "output_type": "stream",
     "text": [
      "10\n",
      "11\n"
     ]
    }
   ],
   "source": [
    "#2.Global Variable-The variable are defined outside the function and we can access those values  inside the function but can't modify.\n",
    "x=10\n",
    "def fun():\n",
    "    #x=x+2\n",
    "    print(x)\n",
    "fun()\n",
    "x=x+1\n",
    "print(x)\n"
   ]
  },
  {
   "cell_type": "code",
   "execution_count": 9,
   "id": "b781f67e-15bb-43b0-a404-762de0125cbb",
   "metadata": {},
   "outputs": [
    {
     "name": "stdout",
     "output_type": "stream",
     "text": [
      "12\n",
      "13\n"
     ]
    }
   ],
   "source": [
    "#global variable can be modify inside the function using \"global\" keyword\n",
    "x=10\n",
    "def fun():\n",
    "    global x\n",
    "    x=x+2\n",
    "    print(x)\n",
    "fun()\n",
    "x=x+1\n",
    "print(x)"
   ]
  },
  {
   "cell_type": "code",
   "execution_count": 12,
   "id": "7a270e79-4156-4b7e-99d4-1760be9cd07a",
   "metadata": {},
   "outputs": [
    {
     "name": "stdout",
     "output_type": "stream",
     "text": [
      "Inner Outer Global\n",
      "Outer Global\n",
      "Global\n"
     ]
    }
   ],
   "source": [
    "#3.Non local variable-The variable that can be defined inside nested function those  variable  called as non local variable.\n",
    "x=\"Global\"\n",
    "def outer():\n",
    "    y=\"Outer\"\n",
    "    def inner():\n",
    "        z=\"Inner\"\n",
    "        print(z,y,x)\n",
    "    inner()\n",
    "    print(y,x)\n",
    "outer()\n",
    "print(x)"
   ]
  },
  {
   "cell_type": "code",
   "execution_count": 13,
   "id": "08e57282-8557-4aee-9d72-7d4e1f7ae1e9",
   "metadata": {},
   "outputs": [
    {
     "ename": "SyntaxError",
     "evalue": "name 'x' is assigned to before global declaration (2858000320.py, line 3)",
     "output_type": "error",
     "traceback": [
      "  \u001b[36mCell\u001b[39m\u001b[36m \u001b[39m\u001b[32mIn[13]\u001b[39m\u001b[32m, line 3\u001b[39m\n\u001b[31m    \u001b[39m\u001b[31mglobal x\u001b[39m\n    ^\n\u001b[31mSyntaxError\u001b[39m\u001b[31m:\u001b[39m name 'x' is assigned to before global declaration\n"
     ]
    }
   ],
   "source": [
    "def fun():\n",
    "    x=10\n",
    "    global x\n",
    "print(x)\n",
    "    "
   ]
  },
  {
   "cell_type": "code",
   "execution_count": 16,
   "id": "43908923-4ae4-4dea-b6e7-ac2b2e2d472d",
   "metadata": {},
   "outputs": [
    {
     "name": "stdout",
     "output_type": "stream",
     "text": [
      "10\n"
     ]
    }
   ],
   "source": [
    "x=10\n",
    "def fun():\n",
    "    global x\n",
    "print(x)"
   ]
  },
  {
   "cell_type": "code",
   "execution_count": null,
   "id": "471a04d0-e1f7-4a24-9646-539c151d7d25",
   "metadata": {},
   "outputs": [],
   "source": []
  }
 ],
 "metadata": {
  "kernelspec": {
   "display_name": "Python 3 (ipykernel)",
   "language": "python",
   "name": "python3"
  },
  "language_info": {
   "codemirror_mode": {
    "name": "ipython",
    "version": 3
   },
   "file_extension": ".py",
   "mimetype": "text/x-python",
   "name": "python",
   "nbconvert_exporter": "python",
   "pygments_lexer": "ipython3",
   "version": "3.13.5"
  }
 },
 "nbformat": 4,
 "nbformat_minor": 5
}
