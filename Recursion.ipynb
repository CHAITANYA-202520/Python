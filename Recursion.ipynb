{
 "cells": [
  {
   "cell_type": "code",
   "execution_count": 7,
   "id": "9603f0a9-b0db-4ccd-8937-abfdd9fb72d0",
   "metadata": {},
   "outputs": [
    {
     "name": "stdout",
     "output_type": "stream",
     "text": [
      "120\n"
     ]
    }
   ],
   "source": [
    "#Factorial of a number\n",
    "def Factorial(x):\n",
    "    if x==1:\n",
    "        return 1\n",
    "    return x*Factorial(x-1)\n",
    "print(Factorial(5))"
   ]
  },
  {
   "cell_type": "code",
   "execution_count": 13,
   "id": "7527e031-6f6f-441f-a7de-56521117b7a0",
   "metadata": {},
   "outputs": [
    {
     "name": "stdout",
     "output_type": "stream",
     "text": [
      "5\n"
     ]
    }
   ],
   "source": [
    "#Fibonacci Series \n",
    "def Fib(x):\n",
    "    if x==0:\n",
    "        return 0\n",
    "    elif x==1:\n",
    "        return 1\n",
    "    else:\n",
    "        return Fib(x-1) + Fib(x-2)\n",
    "print(Fib(5))"
   ]
  },
  {
   "cell_type": "code",
   "execution_count": 15,
   "id": "f88464c3-7e4c-4ed9-9959-be5aba20f8e7",
   "metadata": {},
   "outputs": [
    {
     "name": "stdout",
     "output_type": "stream",
     "text": [
      "1\n",
      "2\n",
      "3\n",
      "4\n",
      "5\n"
     ]
    }
   ],
   "source": [
    "#printi.e(1-->n)\n",
    "def fun(x):\n",
    "    if x==1:\n",
    "        print(1)\n",
    "        return\n",
    "    fun(x-1)\n",
    "    print(x)\n",
    "fun(5)"
   ]
  },
  {
   "cell_type": "code",
   "execution_count": 16,
   "id": "111c9664-ac5c-439f-b6c6-6d14fcf4debf",
   "metadata": {},
   "outputs": [
    {
     "name": "stdout",
     "output_type": "stream",
     "text": [
      "5\n",
      "4\n",
      "3\n",
      "2\n",
      "1\n"
     ]
    }
   ],
   "source": [
    "#print i.e(n-->1)\n",
    "def fun(x):\n",
    "    if x==1:\n",
    "        print(1)\n",
    "        return\n",
    "    print(x)\n",
    "    fun(x-1)\n",
    "fun(5)\n"
   ]
  },
  {
   "cell_type": "code",
   "execution_count": 19,
   "id": "26f58ca9-b50f-4bc1-b8fb-d40a7841a13d",
   "metadata": {
    "scrolled": true
   },
   "outputs": [
    {
     "name": "stdout",
     "output_type": "stream",
     "text": [
      "0\n",
      "2\n",
      "4\n",
      "6\n",
      "8\n",
      "10\n"
     ]
    }
   ],
   "source": [
    "#even numbers\n",
    "def even(x):\n",
    "    if x==0 or x==1:\n",
    "        print(0)\n",
    "        return\n",
    "    even(x-2)\n",
    "    print(x)\n",
    "even(10)"
   ]
  },
  {
   "cell_type": "code",
   "execution_count": 27,
   "id": "8c17109b-d918-4c10-8592-6f7dde87c923",
   "metadata": {},
   "outputs": [
    {
     "name": "stdout",
     "output_type": "stream",
     "text": [
      "1\n",
      "3\n",
      "5\n",
      "7\n",
      "9\n",
      "11\n"
     ]
    }
   ],
   "source": [
    "#odd numbers\n",
    "def odd(x):\n",
    "    if x==0:\n",
    "        print(0)\n",
    "        return\n",
    "    elif x==1:\n",
    "        print(1)\n",
    "        return\n",
    "    odd(x-2)\n",
    "    print(x)\n",
    "odd(11)    "
   ]
  },
  {
   "cell_type": "code",
   "execution_count": 30,
   "id": "f59fe254-4105-4319-bb1b-2650e021f3a9",
   "metadata": {},
   "outputs": [
    {
     "name": "stdout",
     "output_type": "stream",
     "text": [
      "0\n",
      "2\n",
      "4\n",
      "6\n",
      "8\n",
      "10\n"
     ]
    }
   ],
   "source": [
    "#even numbers(1-->n)\n",
    "def fun(x):\n",
    "    if x==0:\n",
    "        print(0)\n",
    "        return\n",
    "    elif x==1:\n",
    "        print(1)\n",
    "        return\n",
    "    elif x%2==0:\n",
    "        fun(x-2)\n",
    "    else:\n",
    "        x=x-1\n",
    "        fun(x)\n",
    "    print(x)\n",
    "fun(10)"
   ]
  },
  {
   "cell_type": "code",
   "execution_count": 31,
   "id": "717f076f-4495-4975-a442-a77160bef800",
   "metadata": {},
   "outputs": [
    {
     "name": "stdout",
     "output_type": "stream",
     "text": [
      "10\n",
      "8\n",
      "6\n",
      "4\n",
      "2\n",
      "0\n"
     ]
    }
   ],
   "source": [
    "#even numbers(n-->1)\n",
    "def fun(x):\n",
    "    if x==0:\n",
    "        print(0)\n",
    "        return\n",
    "    elif x==1:\n",
    "        print(1)\n",
    "        return\n",
    "    elif x%2==0:\n",
    "        print(x)\n",
    "        fun(x-2)\n",
    "    else:\n",
    "        x=x-1\n",
    "        fun(x)\n",
    "fun(10)"
   ]
  },
  {
   "cell_type": "code",
   "execution_count": 2,
   "id": "71968834-5d59-4431-a05a-4ccfab37691d",
   "metadata": {},
   "outputs": [
    {
     "name": "stdout",
     "output_type": "stream",
     "text": [
      "1\n",
      "3\n",
      "5\n",
      "7\n",
      "9\n",
      "11\n"
     ]
    }
   ],
   "source": [
    "#odd numbers  i.e(1-->n)\n",
    "def fun(x):\n",
    "    if x==0:\n",
    "        print(0)\n",
    "        return \n",
    "    elif x==1:\n",
    "        print(1)\n",
    "        return \n",
    "    elif x%2==0:\n",
    "        x=x-1\n",
    "        fun(x)\n",
    "    else:\n",
    "        fun(x-2)\n",
    "    print(x)\n",
    "fun(11)"
   ]
  },
  {
   "cell_type": "code",
   "execution_count": 3,
   "id": "50ead6b6-a0fe-4e15-abb2-5389be054911",
   "metadata": {},
   "outputs": [
    {
     "name": "stdout",
     "output_type": "stream",
     "text": [
      "11\n",
      "9\n",
      "7\n",
      "5\n",
      "3\n",
      "1\n"
     ]
    }
   ],
   "source": [
    "#odd numbers i.e n-->1\n",
    "def fun(x):\n",
    "    if x==0:\n",
    "        print(0)\n",
    "        return \n",
    "    elif x==1:\n",
    "        print(1)\n",
    "        return \n",
    "    elif x%2==0:\n",
    "        x=x-1\n",
    "        fun(x)\n",
    "    else:\n",
    "        print(x)\n",
    "        fun(x-2)\n",
    "fun(11)\n",
    "        "
   ]
  }
 ],
 "metadata": {
  "kernelspec": {
   "display_name": "Python 3 (ipykernel)",
   "language": "python",
   "name": "python3"
  },
  "language_info": {
   "codemirror_mode": {
    "name": "ipython",
    "version": 3
   },
   "file_extension": ".py",
   "mimetype": "text/x-python",
   "name": "python",
   "nbconvert_exporter": "python",
   "pygments_lexer": "ipython3",
   "version": "3.13.5"
  }
 },
 "nbformat": 4,
 "nbformat_minor": 5
}
