{
 "cells": [
  {
   "cell_type": "code",
   "execution_count": 1,
   "id": "5a189788-aa90-431c-b7d5-f79e3e96863a",
   "metadata": {},
   "outputs": [
    {
     "name": "stdout",
     "output_type": "stream",
     "text": [
      "[1, 2, 3, 4, 5, 6, 7, 8, 9, 10]\n"
     ]
    }
   ],
   "source": [
    "#print 1-10 list numbers\n",
    "lt=[]\n",
    "for i in range(1,11):\n",
    "    lt.append(i)\n",
    "print(lt)"
   ]
  },
  {
   "cell_type": "code",
   "execution_count": 2,
   "id": "41f7b0d2-c382-460c-9acc-1448ac3be826",
   "metadata": {},
   "outputs": [
    {
     "name": "stdout",
     "output_type": "stream",
     "text": [
      "[1, 2, 3, 4, 5, 6, 7, 8, 9, 10]\n"
     ]
    }
   ],
   "source": [
    "#syntax:[expression for iterator in iterable if condition]\n",
    "lt=[x for x in range(1,11)]\n",
    "print(lt)"
   ]
  },
  {
   "cell_type": "code",
   "execution_count": 3,
   "id": "60458d3f-1f56-44cd-9316-b6404d0df89b",
   "metadata": {},
   "outputs": [
    {
     "name": "stdout",
     "output_type": "stream",
     "text": [
      "[2, 4, 6, 8, 10, 12, 14, 16, 18, 20]\n"
     ]
    }
   ],
   "source": [
    "#list of even numbers 1-20\n",
    "lt=[x for x in range(1,21) if x%2==0]\n",
    "print(lt)"
   ]
  },
  {
   "cell_type": "code",
   "execution_count": 4,
   "id": "152f2bec-8c67-4191-8a51-db25e9d08220",
   "metadata": {},
   "outputs": [
    {
     "name": "stdout",
     "output_type": "stream",
     "text": [
      "[1, 4, 9, 16, 25, 36, 49, 64, 81, 100]\n"
     ]
    }
   ],
   "source": [
    "#square of list of numbers\n",
    "lt=[x**2 for x in range(1,11)]\n",
    "print(lt)"
   ]
  },
  {
   "cell_type": "code",
   "execution_count": 12,
   "id": "cd8cc7ce-c8b8-4efd-afdf-8b8778c1f947",
   "metadata": {},
   "outputs": [
    {
     "name": "stdout",
     "output_type": "stream",
     "text": [
      "['even', 'odd', 'even', 'odd', 'even', 'even', 'odd']\n"
     ]
    }
   ],
   "source": [
    "l=[2,443,54,65,66,86,91]\n",
    "#true_state if condition else false_state\n",
    "res=[ \"even\" if not x%2 else \"odd\" for x in l]\n",
    "print(res)"
   ]
  },
  {
   "cell_type": "code",
   "execution_count": 13,
   "id": "c9b69ede-2a37-47f4-bd2d-cac1bbad962d",
   "metadata": {},
   "outputs": [
    {
     "name": "stdout",
     "output_type": "stream",
     "text": [
      "[1, 3, 5, 7, 9, 11, 13, 15, 17, 19]\n"
     ]
    }
   ],
   "source": [
    "#list of odd numbers from 1-20 without using '==' and '!='\n",
    "lt=[x for x in range(1,21,2) if x%2]\n",
    "print(lt)"
   ]
  },
  {
   "cell_type": "code",
   "execution_count": 17,
   "id": "6c94dd03-e2ff-4c9c-9167-c1c4f0b17137",
   "metadata": {},
   "outputs": [
    {
     "name": "stdout",
     "output_type": "stream",
     "text": [
      "Hi\n"
     ]
    }
   ],
   "source": [
    "if 10%2:\n",
    "    print(\"Hello\")\n",
    "else:\n",
    "    print(\"Hi\")"
   ]
  },
  {
   "cell_type": "code",
   "execution_count": 20,
   "id": "8a4ddbf4-553a-4bf4-8ea0-78d1248e70da",
   "metadata": {},
   "outputs": [
    {
     "name": "stdout",
     "output_type": "stream",
     "text": [
      "[2, 54, 66, 86]\n"
     ]
    }
   ],
   "source": [
    "#print even numbers from list without using '=='\n",
    "l=[2,443,54,65,66,86,91]\n",
    "lt=[x for x in l if not x%2]\n",
    "print(lt)"
   ]
  },
  {
   "cell_type": "code",
   "execution_count": 40,
   "id": "0c7d44fe-50d4-4dcf-aa07-cf21ba37c504",
   "metadata": {},
   "outputs": [
    {
     "name": "stdout",
     "output_type": "stream",
     "text": [
      "Hello\n"
     ]
    }
   ],
   "source": [
    "if not 10%2:\n",
    "    print(\"Hello\")\n",
    "else:\n",
    "    print(\"Hi\")"
   ]
  },
  {
   "cell_type": "code",
   "execution_count": 25,
   "id": "393b2f47-2c87-4a26-8da4-492968674ae9",
   "metadata": {},
   "outputs": [
    {
     "name": "stdout",
     "output_type": "stream",
     "text": [
      "even\n"
     ]
    }
   ],
   "source": [
    "l=[2,443,54,65,66,86,91]\n",
    "#true_state if condition else false_state\n",
    "n=10\n",
    "res=\"even\" if not n%2 else \"odd\"\n",
    "print(res)"
   ]
  },
  {
   "cell_type": "code",
   "execution_count": 35,
   "id": "ec8b624f-9914-4dc1-bef6-ef8ef583cbfe",
   "metadata": {},
   "outputs": [
    {
     "name": "stdout",
     "output_type": "stream",
     "text": [
      "['2-even', '443-odd', '54-even', '65-odd', '66-even', '86-even', '91-odd']\n"
     ]
    }
   ],
   "source": [
    "l=[2,443,54,65,66,86,91]\n",
    "#true_state if condition else false_state\n",
    "res= [f'{x}-even' if not x%2 else f'{x}-odd' for x in l]\n",
    "print(res)"
   ]
  },
  {
   "cell_type": "code",
   "execution_count": 38,
   "id": "e192aef0-c32b-432b-ba70-083a0db519bf",
   "metadata": {},
   "outputs": [
    {
     "name": "stdout",
     "output_type": "stream",
     "text": [
      "[(1, 1), (1, 2), (1, 3), (1, 4), (1, 5), (1, 6), (2, 1), (2, 2), (2, 3), (2, 4), (2, 5), (2, 6), (3, 1), (3, 2), (3, 3), (3, 4), (3, 5), (3, 6), (4, 1), (4, 2), (4, 3), (4, 4), (4, 5), (4, 6), (5, 1), (5, 2), (5, 3), (5, 4), (5, 5), (5, 6), (6, 1), (6, 2), (6, 3), (6, 4), (6, 5), (6, 6)]\n"
     ]
    }
   ],
   "source": [
    "#nested loops in list comprehension\n",
    "lt=[(i,j) for i in range(1,7) for j in range(1,7)]\n",
    "print(lt)"
   ]
  },
  {
   "cell_type": "code",
   "execution_count": 39,
   "id": "5e800622-438e-4e08-bf16-af85e969e1ac",
   "metadata": {},
   "outputs": [
    {
     "name": "stdout",
     "output_type": "stream",
     "text": [
      "[(1, 5), (2, 4), (3, 3), (4, 2), (5, 1)]\n"
     ]
    }
   ],
   "source": [
    "#two dices sum is 6\n",
    "l=[(i,j) for i in range(1,7) for j in range(1,7) if i+j==6]\n",
    "print(l)"
   ]
  },
  {
   "cell_type": "code",
   "execution_count": 43,
   "id": "e1dfeba6-95b9-45d8-a958-23f93af778fe",
   "metadata": {},
   "outputs": [
    {
     "name": "stdout",
     "output_type": "stream",
     "text": [
      "[(1, 4), (2, 4), (3, 4), (4, 1), (4, 2), (4, 3), (4, 4), (4, 5), (4, 6), (5, 4), (6, 4)]\n"
     ]
    }
   ],
   "source": [
    "#atleast one dice face is 4\n",
    "l=[(i,j) for i in range(1,7) for j in range(1,7) if i==4 or  j==4]\n",
    "print(l)"
   ]
  }
 ],
 "metadata": {
  "kernelspec": {
   "display_name": "Python 3 (ipykernel)",
   "language": "python",
   "name": "python3"
  },
  "language_info": {
   "codemirror_mode": {
    "name": "ipython",
    "version": 3
   },
   "file_extension": ".py",
   "mimetype": "text/x-python",
   "name": "python",
   "nbconvert_exporter": "python",
   "pygments_lexer": "ipython3",
   "version": "3.13.5"
  }
 },
 "nbformat": 4,
 "nbformat_minor": 5
}
