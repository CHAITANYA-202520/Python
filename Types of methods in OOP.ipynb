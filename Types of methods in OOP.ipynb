{
 "cells": [
  {
   "cell_type": "code",
   "execution_count": 3,
   "id": "8974bf9b-144e-4f78-ab1b-a500d89e2098",
   "metadata": {},
   "outputs": [
    {
     "name": "stdout",
     "output_type": "stream",
     "text": [
      "Hello,How are you?\n"
     ]
    }
   ],
   "source": [
    "#instance method Example\n",
    "class Student:\n",
    "    def __init__(self,name,marks):\n",
    "        self.name=name\n",
    "        self.marks=marks\n",
    "    def display(self):#Instance method\n",
    "        return \"Hello,How are you?\"\n",
    "obj=Student(\"Chaitanya\",38)\n",
    "print(obj.display())"
   ]
  },
  {
   "cell_type": "code",
   "execution_count": 14,
   "id": "f6352c71-8774-433f-84f4-6bcf469bcf6f",
   "metadata": {},
   "outputs": [
    {
     "name": "stdout",
     "output_type": "stream",
     "text": [
      "ABC school\n",
      "ABC school\n",
      "XYZ school\n",
      "XYZ school\n"
     ]
    }
   ],
   "source": [
    "# class method example\n",
    "class Student:\n",
    "    #attribute\n",
    "    school=\"ABC school\"\n",
    "    def __init__(self,names,marks):\n",
    "        self.names=names\n",
    "        self.marks=marks\n",
    "    #class mehod\n",
    "    @classmethod\n",
    "    def class_method(cls,new_school):\n",
    "        cls.school=new_school\n",
    "s1=Student(\"Chaitanya\",23)\n",
    "s2=Student(\"Ravi\",54)\n",
    "print(s1.school)\n",
    "print(s2.school)\n",
    "s1.class_method(\"XYZ school\")\n",
    "print(s1.school)\n",
    "print(s2.school)"
   ]
  },
  {
   "cell_type": "code",
   "execution_count": 16,
   "id": "c663a9b4-718c-4c6a-8fae-e2b4d7b4fe0a",
   "metadata": {},
   "outputs": [
    {
     "name": "stdout",
     "output_type": "stream",
     "text": [
      "The student got math marks is 12 and science marks is 23\n"
     ]
    }
   ],
   "source": [
    "# static method example\n",
    "class Student:\n",
    "    school=\"ABC school\"\n",
    "    def  __init__(self,names,marks):\n",
    "        self.names=names\n",
    "        self.marks=marks\n",
    "    @staticmethod\n",
    "    def static_method(math,science):\n",
    "        return f\"The student got math marks is {math} and science marks is {science}\"\n",
    "s1=Student(\"Chaitanya\",64)\n",
    "s2=Student(\"Ramu\",45)\n",
    "print(s1.static_method(12,23))\n",
    "    \n",
    "    \n",
    "    "
   ]
  },
  {
   "cell_type": "code",
   "execution_count": 3,
   "id": "09c621a6-a9e9-45dd-9012-012405ac4e91",
   "metadata": {},
   "outputs": [
    {
     "name": "stdout",
     "output_type": "stream",
     "text": [
      "Chaitanya 90\n",
      "Sai 90\n"
     ]
    }
   ],
   "source": [
    "#class methods:Student with different input format\n",
    "#mostly used for factory methods(alternative constructor).It creating objects in a different ways.\n",
    "class Student:\n",
    "    def __init__(self,names,marks):\n",
    "        self.names=names\n",
    "        self.marks=marks\n",
    "\n",
    "    @classmethod\n",
    "    def from_string(cls,data_string):\n",
    "        name,marks=data_string.split(\"-\")\n",
    "        return cls(name,int(marks))\n",
    "s1=Student(\"Chaitanya\",90)\n",
    "s2=Student.from_string(\"Sai-90\")\n",
    "print(s1.names,s1.marks)\n",
    "print(s2.names,s2.marks)"
   ]
  },
  {
   "cell_type": "code",
   "execution_count": 7,
   "id": "6f28c588-415c-4720-a445-b19574c463f6",
   "metadata": {},
   "outputs": [
    {
     "name": "stdout",
     "output_type": "stream",
     "text": [
      "26 8 2025\n",
      "27 8 2025\n"
     ]
    }
   ],
   "source": [
    "#Date example\n",
    "class Date:\n",
    "    #normal function\n",
    "    def __init__(self,day,month,year):\n",
    "        self.day=day\n",
    "        self.month=month\n",
    "        self.year=year\n",
    "\n",
    "    # using factory method(string input)\n",
    "    @classmethod\n",
    "    def from_string(cls,date_str):\n",
    "        day,month,year=map(int,date_str.split(\"-\"))\n",
    "        return cls(day,month,year)\n",
    "# creating normal object\n",
    "s1=Date(26,8,2025)\n",
    "# creating factory object\n",
    "s2=Date.from_string(\"27-08-2025\")\n",
    "print(s1.day,s1.month,s1.year)\n",
    "print(s2.day,s2.month,s2.year)"
   ]
  },
  {
   "cell_type": "code",
   "execution_count": 9,
   "id": "687211e6-6d1d-4494-82ef-c68e4254f340",
   "metadata": {},
   "outputs": [
    {
     "name": "stdout",
     "output_type": "stream",
     "text": [
      "chaitanya 1000000\n",
      "Sai 1000\n"
     ]
    }
   ],
   "source": [
    "# BankAccount Example\n",
    "class BankAccount:\n",
    "    def __init__(self,name,balance):\n",
    "        self.name=name\n",
    "        self.balance=balance\n",
    "    # usinf facory function\n",
    "    @classmethod\n",
    "    def from_bank_bal(cls,name):\n",
    "        return cls(name,1000)# default balance\n",
    "# creating normal object\n",
    "s1=BankAccount(\"chaitanya\",1000000)\n",
    "# creating factory object\n",
    "s2=BankAccount.from_bank_bal(\"Sai\")\n",
    "print(s1.name,s1.balance)\n",
    "print(s2.name,s2.balance)"
   ]
  },
  {
   "cell_type": "code",
   "execution_count": 1,
   "id": "58b28555-e8bb-454d-accd-d25f80054e6d",
   "metadata": {},
   "outputs": [
    {
     "name": "stdout",
     "output_type": "stream",
     "text": [
      "Chaitanya\n"
     ]
    }
   ],
   "source": [
    "# Dunder Methods\n",
    "# 1.__init__() Constructor\n",
    "class Student:\n",
    "    def __init__(self,name):\n",
    "        self.name=name\n",
    "s=Student(\"Chaitanya\")\n",
    "print(s.name)"
   ]
  },
  {
   "cell_type": "code",
   "execution_count": 2,
   "id": "36952d7f-3193-4276-9f22-3db74fa17f8b",
   "metadata": {},
   "outputs": [
    {
     "name": "stdout",
     "output_type": "stream",
     "text": [
      "This is standard object\n"
     ]
    }
   ],
   "source": [
    "# 2.__str__() string representation\n",
    "class Student:\n",
    "    def __str__(self):\n",
    "        return \"This is standard object\"\n",
    "s=Student()\n",
    "print(s)"
   ]
  },
  {
   "cell_type": "code",
   "execution_count": 5,
   "id": "d568df45-b392-4f50-9ea9-0d39b8e262f6",
   "metadata": {},
   "outputs": [
    {
     "name": "stdout",
     "output_type": "stream",
     "text": [
      "student(name='Chaitanya')\n"
     ]
    }
   ],
   "source": [
    "# 3.__repr__()->Developer Representation\n",
    "class Student:\n",
    "    def __repr__(self):\n",
    "        return \"student(name='Chaitanya')\"\n",
    "s=Student()\n",
    "print(repr(s))"
   ]
  },
  {
   "cell_type": "code",
   "execution_count": 6,
   "id": "3e3a35bb-fd64-40e8-a74f-ed5a1830c108",
   "metadata": {},
   "outputs": [
    {
     "name": "stdout",
     "output_type": "stream",
     "text": [
      "3\n"
     ]
    }
   ],
   "source": [
    "# 4.__len__()->Length\n",
    "class Group:\n",
    "    def __init__(self,members):\n",
    "        self.members=members\n",
    "    def __len__(self):\n",
    "        return len(self.members)\n",
    "g=Group([\"A\",\"B\",\"C\"])\n",
    "print(len(g))"
   ]
  },
  {
   "cell_type": "code",
   "execution_count": 10,
   "id": "10f52f4d-887c-47e5-855b-85de18d94fde",
   "metadata": {},
   "outputs": [
    {
     "name": "stdout",
     "output_type": "stream",
     "text": [
      "300\n"
     ]
    }
   ],
   "source": [
    "# 5.__add__()->Operator Overloading(+)\n",
    "class Book:\n",
    "    def __init__(self,pages):\n",
    "        self.pages=pages\n",
    "    def __add__(self,other):\n",
    "        return self.pages+other.pages\n",
    "b1=Book(100)\n",
    "b2=Book(200)\n",
    "print(b1+b2)"
   ]
  },
  {
   "cell_type": "code",
   "execution_count": 1,
   "id": "27007095-9388-4388-92b7-7e047416c299",
   "metadata": {},
   "outputs": [
    {
     "name": "stdout",
     "output_type": "stream",
     "text": [
      "True\n"
     ]
    }
   ],
   "source": [
    "# 6.__eq__()->Equalit(==)\n",
    "class Student:\n",
    "    def __init__(self,marks):\n",
    "        self.marks=marks\n",
    "    def __eq__(self,other):\n",
    "        return self.marks==other.marks\n",
    "s1=Student(90)\n",
    "s2=Student(90)\n",
    "print(s1==s2)"
   ]
  },
  {
   "cell_type": "code",
   "execution_count": 2,
   "id": "616bf1ca-bcfe-423c-8cda-1b692ec218c7",
   "metadata": {},
   "outputs": [
    {
     "name": "stdout",
     "output_type": "stream",
     "text": [
      "True\n"
     ]
    }
   ],
   "source": [
    "# 7.__lt__()->Less than(<)\n",
    "class Student:\n",
    "    def __init__(self,marks):\n",
    "        self.marks=marks\n",
    "    def __lt__(self,other):\n",
    "        return self.marks<other.marks\n",
    "s1=Student(80)\n",
    "s2=Student(90)\n",
    "print(s1<s2)"
   ]
  },
  {
   "cell_type": "code",
   "execution_count": 4,
   "id": "7e524cf9-1425-46f7-8939-170235541274",
   "metadata": {},
   "outputs": [
    {
     "name": "stdout",
     "output_type": "stream",
     "text": [
      "A\n"
     ]
    }
   ],
   "source": [
    "# 8.__getitem__()->Indexing(obj[index])\n",
    "class Group:\n",
    "    def __init__(self,members):\n",
    "        self.members=members\n",
    "    def __getitem__(self,i):\n",
    "        return self.members[i]\n",
    "g=Group([\"A\",\"B\",\"C\"])\n",
    "print(g[0])\n"
   ]
  },
  {
   "cell_type": "code",
   "execution_count": 8,
   "id": "a30e4103-b2d3-4f24-abe0-7757c488b555",
   "metadata": {},
   "outputs": [
    {
     "name": "stdout",
     "output_type": "stream",
     "text": [
      "['x']\n"
     ]
    }
   ],
   "source": [
    "# 9.__setitem__()->Setting values(obj[index]=value)\n",
    "class group:\n",
    "    def __init__(self):\n",
    "        self.members=[]\n",
    "    def __setitem__(self,i,val):\n",
    "        if len(self.members)>i:\n",
    "            self.members[i]=val\n",
    "        else:\n",
    "            self.members.append(val)\n",
    "g=group()\n",
    "g[0]=\"x\"\n",
    "print(g.members)"
   ]
  },
  {
   "cell_type": "code",
   "execution_count": 14,
   "id": "3b9e6e02-1d89-4026-93c1-21cd4b4ffd8a",
   "metadata": {},
   "outputs": [
    {
     "name": "stdout",
     "output_type": "stream",
     "text": [
      "1 2 3 "
     ]
    }
   ],
   "source": [
    "# 10.__iter__() and __next__() iteration\n",
    "class Counter:\n",
    "    def __init__(self):\n",
    "        self.num=0\n",
    "    def __iter__(self):\n",
    "        return self\n",
    "    def __next__(self):\n",
    "        if self.num<3:\n",
    "            self.num+=1\n",
    "            return self.num\n",
    "        else:\n",
    "            raise StopIteration\n",
    "for x in Counter():\n",
    "    print(x,end=\" \")"
   ]
  },
  {
   "cell_type": "code",
   "execution_count": 17,
   "id": "0cddf16f-ea43-4ba9-9cb1-ade06d5cde31",
   "metadata": {},
   "outputs": [
    {
     "name": "stdout",
     "output_type": "stream",
     "text": [
      "The student name is Chaitanya and got marks is 40\n"
     ]
    }
   ],
   "source": [
    "# Practice Questions on OOP Methods\n",
    "# Instance Methods\n",
    "# 1.Create a Student class with attributes name and marks. Add a method display() to show details.\n",
    "class Student:\n",
    "    def __init__(self,name,marks):\n",
    "        self.name=name\n",
    "        self.marks=marks\n",
    "    def display(self):\n",
    "        return f\"The student name is {self.name} and got marks is {self.marks}\"\n",
    "s=Student(\"Chaitanya\",40)\n",
    "print(s.display())"
   ]
  },
  {
   "cell_type": "code",
   "execution_count": 24,
   "id": "fd80e43e-2376-4ee7-92ac-f86b839011d4",
   "metadata": {},
   "outputs": [
    {
     "name": "stdout",
     "output_type": "stream",
     "text": [
      "Area of a Rectangle:600\n",
      "Perimeter of a Rectangle:100\n"
     ]
    }
   ],
   "source": [
    "# 2.Create a Rectangle class with attributes length and width. Add methods area() and perimeter().\n",
    "class Rectangle:\n",
    "    def __init__(self,length,width):\n",
    "        self.length=length\n",
    "        self.width=width\n",
    "    def area(self):\n",
    "        return f\"Area of a Rectangle:{self.length*self.width}\"\n",
    "    def perimeter(self):\n",
    "        a=2*(self.length+self.width)\n",
    "        return f\"Perimeter of a Rectangle:{a}\"\n",
    "r=Rectangle(20,30)\n",
    "print(r.area())\n",
    "print(r.perimeter())\n"
   ]
  },
  {
   "cell_type": "code",
   "execution_count": 21,
   "id": "6bd0299e-dc02-4a2f-8f0b-12a48ba9f9a2",
   "metadata": {},
   "outputs": [
    {
     "name": "stdout",
     "output_type": "stream",
     "text": [
      "Deposit amount 1000 and new amount 6002\n",
      "withdraw amount 200 and new amount 5802\n"
     ]
    }
   ],
   "source": [
    "# 3.Create a BankAccount class with methods deposit() and withdraw(). Prevent negative balance.\n",
    "class BankAccount():\n",
    "    def __init__(self,amount):\n",
    "        self.amount=amount\n",
    "    def deposit(self,deposit_amount):\n",
    "        self.amount=self.amount+deposit_amount\n",
    "        print(f\"Deposit amount {deposit_amount} and new amount {self.amount}\")\n",
    "\n",
    "    def withdraw(self,withdraw_amount):\n",
    "        if self.amount-withdraw_amount<=0:\n",
    "            print(\"No Amount in the account to be Withdraw\")\n",
    "        else:\n",
    "            self.amount=self.amount-withdraw_amount\n",
    "            print(f\"withdraw amount {withdraw_amount} and new amount {self.amount}\")\n",
    "b=BankAccount(5002)\n",
    "b.deposit(1000)\n",
    "b.withdraw(200)\n"
   ]
  },
  {
   "cell_type": "code",
   "execution_count": 2,
   "id": "c640bef2-adc2-4a7c-8987-a43e88113348",
   "metadata": {},
   "outputs": [
    {
     "name": "stdout",
     "output_type": "stream",
     "text": [
      "The car details for brand Ambasador,model 123 and mileage 30\n"
     ]
    }
   ],
   "source": [
    "# 4.Create a Car class with attributes brand, model, and mileage. Add a method show_details()\n",
    "class Car:\n",
    "    def __init__(self,brand,model,mileage):\n",
    "        self.brand=brand\n",
    "        self.model=model\n",
    "        self.mileage=mileage\n",
    "        \n",
    "    def show_details(self):\n",
    "        print(f\"The car details for brand {self.brand},model {self.model} and mileage {self.mileage}\")\n",
    "c=Car(\"Ambasador\",123,30)\n",
    "c.show_details()"
   ]
  },
  {
   "cell_type": "code",
   "execution_count": 29,
   "id": "a8b5dce0-2497-4dfd-936a-10829da07f26",
   "metadata": {},
   "outputs": [
    {
     "name": "stdout",
     "output_type": "stream",
     "text": [
      "Celsius to fahrenheit temp: 86.0\n",
      "Celsius to Kelvin temp: 303.15\n"
     ]
    }
   ],
   "source": [
    "# 5.Create a Temperature class that stores temperature in Celsius. Add methods to convert to Fahrenheit and Kelvin.\n",
    "class Temperature:\n",
    "    def __init__(self,temp_cel):\n",
    "        self.temp_cel=temp_cel\n",
    "    def fahrenheit(self):\n",
    "        temp_farn=(9/5)*self.temp_cel+32\n",
    "        print(\"Celsius to fahrenheit temp:\",temp_farn)\n",
    "    def kelvin(self):\n",
    "        temp_kel=self.temp_cel+273.15\n",
    "        print(\"Celsius to Kelvin temp:\",temp_kel)\n",
    "t=Temperature(30)\n",
    "t.fahrenheit()\n",
    "t.kelvin()\n",
    "        "
   ]
  },
  {
   "cell_type": "code",
   "execution_count": 16,
   "id": "88a92faa-32a9-441c-93b2-b5b39a1dd333",
   "metadata": {},
   "outputs": [
    {
     "name": "stdout",
     "output_type": "stream",
     "text": [
      "Before: Minds\n",
      "The company name Minds is changed to Mindset\n",
      "After: Mindset\n"
     ]
    }
   ],
   "source": [
    "# Class Methods\n",
    "# 1.Create an Employee class with class variable company_name. Add a class method change_company(new_name) to modify it.\n",
    "class Employee:\n",
    "    company_name=\"Minds\"\n",
    "    def __init__(self,name):\n",
    "        self.name=name\n",
    "    @classmethod\n",
    "    def change_company(cls,new_name):\n",
    "        # cls.company_name=new_name\n",
    "        print(f\"The company name {e.company_name} is changed to {new_name}\")\n",
    "        cls.company_name=new_name\n",
    "e=Employee(\"chaitanya\")\n",
    "print(\"Before:\",Employee.company_name)\n",
    "Employee.change_company(\"Mindset\")\n",
    "print(\"After:\",Employee.company_name)\n"
   ]
  },
  {
   "cell_type": "code",
   "execution_count": 3,
   "id": "1a6ac7e8-ea7d-4c19-bcc0-480a43510d25",
   "metadata": {},
   "outputs": [
    {
     "name": "stdout",
     "output_type": "stream",
     "text": [
      "Name marks\n"
     ]
    }
   ],
   "source": [
    "# 2.Create a Student class with a class method from_string(\"Name-Marks\") to create objects from a string\n",
    "class Student:\n",
    "    def __init__(self,name,marks):\n",
    "        self.name=name\n",
    "        self.marks=marks\n",
    "    @classmethod\n",
    "    def from_string(cls,data_str):\n",
    "        name,marks=data_str.split(\"-\")\n",
    "        return cls(name,marks)\n",
    "s=Student.from_string(\"Name-marks\")\n",
    "print(s.name,s.marks)"
   ]
  },
  {
   "cell_type": "code",
   "execution_count": 7,
   "id": "c6f5d3cd-cced-41c5-9747-d9010ca6cfde",
   "metadata": {},
   "outputs": [
    {
     "name": "stdout",
     "output_type": "stream",
     "text": [
      "3\n"
     ]
    }
   ],
   "source": [
    "# 3.Create a Book class with a class variable total_books. Use a class method to keep count of how many books were created.\n",
    "class Book:\n",
    "    total_books=0\n",
    "    def __init__(self,book,author):\n",
    "        self.book=book\n",
    "        self.author=author\n",
    "        Book.increase_count()\n",
    "\n",
    "    @classmethod\n",
    "    def increase_count(cls):\n",
    "        cls.total_books+=1\n",
    "b=Book(\"Python\",\"Guido\")\n",
    "b=Book(\"Machine Learning\",\"Machine\")\n",
    "b=Book(\"AI\",\"AI\")\n",
    "print(b.total_books)\n",
    "\n",
    "        "
   ]
  },
  {
   "cell_type": "code",
   "execution_count": 25,
   "id": "932d4fa0-6fa0-4008-9dcb-16f068953d4d",
   "metadata": {},
   "outputs": [
    {
     "name": "stdout",
     "output_type": "stream",
     "text": [
      "True\n",
      "False\n",
      "22\n"
     ]
    }
   ],
   "source": [
    "# 4.Create a Person class with a class method is_adult(age) that returns True if age ≥ 18.\n",
    "class  Person:\n",
    "    def __init__(self,age):\n",
    "        self.age=age\n",
    "    @classmethod\n",
    "    def is_adult(cls,age):\n",
    "        return age>=18\n",
    "        \n",
    "\n",
    "print(Person.is_adult(22))\n",
    "print(Person.is_adult(2))\n",
    "p=Person(22)\n",
    "print(p.age)"
   ]
  },
  {
   "cell_type": "code",
   "execution_count": 33,
   "id": "8e2af05d-93ec-4a51-ab08-2790eab7c517",
   "metadata": {},
   "outputs": [
    {
     "name": "stdout",
     "output_type": "stream",
     "text": [
      "nokia nokia\n",
      "OPPO OPPO\n"
     ]
    }
   ],
   "source": [
    "#5.Create a Mobile class with a class variable brand. Add a class method to change the brand for all objects.\n",
    "class Mobile:\n",
    "    brand=\"nokia\"\n",
    "    \n",
    "    @classmethod\n",
    "    def change_brand(cls,new_brand):\n",
    "        cls.brand=new_brand\n",
    "        \n",
    "m1=Mobile()\n",
    "m2=Mobile()\n",
    "print(m1.brand,m2.brand)\n",
    "Mobile.change_brand(\"OPPO\")\n",
    "print(m1.brand,m2.brand)"
   ]
  },
  {
   "cell_type": "code",
   "execution_count": 15,
   "id": "1f2e2e33-0eec-4a55-9966-934166fa299d",
   "metadata": {},
   "outputs": [
    {
     "name": "stdout",
     "output_type": "stream",
     "text": [
      "True\n",
      "120\n"
     ]
    }
   ],
   "source": [
    "#Static Methods\n",
    "#1.Create a MathUtil class with static methods is_even(n) and factorial(n). \n",
    "import math\n",
    "class MathUtil:\n",
    "    @staticmethod\n",
    "    def is_even(n):\n",
    "        return n%2==0\n",
    "    @staticmethod\n",
    "    def factorial(n1):\n",
    "        return math.factorial(n1)\n",
    "m=MathUtil()\n",
    "print(m.is_even(10))\n",
    "print(m.factorial(5))"
   ]
  },
  {
   "cell_type": "code",
   "execution_count": 21,
   "id": "51442b3d-5040-43d4-908a-0c17a0c04a8a",
   "metadata": {},
   "outputs": [
    {
     "name": "stdout",
     "output_type": "stream",
     "text": [
      "5\n",
      "9\n",
      "6\n",
      "2.0\n"
     ]
    }
   ],
   "source": [
    "#2.Create a Calculator class with static methods add(a, b), subtract(a, b), multiply(a, b), and divide(a, b).\n",
    "class Calculator:\n",
    "    @staticmethod\n",
    "    def add(a,b):\n",
    "        return a+b\n",
    "    @staticmethod\n",
    "    def subtract(a,b):\n",
    "        return a-b\n",
    "    @staticmethod\n",
    "    def multiply(a,b):\n",
    "        return a*b\n",
    "    @staticmethod\n",
    "    def divide(a,b):\n",
    "        if b==0:\n",
    "            return \"Error!Division by zero\"\n",
    "        return a/b\n",
    "m=Calculator()\n",
    "print(m.add(2,3))\n",
    "print(m.subtract(12,3))\n",
    "print(m.multiply(2,3))\n",
    "print(m.divide(6,3))"
   ]
  },
  {
   "cell_type": "code",
   "execution_count": 31,
   "id": "c47cd8a7-eaed-4c24-a84a-72a7b2ef92c3",
   "metadata": {},
   "outputs": [
    {
     "name": "stdout",
     "output_type": "stream",
     "text": [
      "True\n",
      "gnirts\n"
     ]
    }
   ],
   "source": [
    "#3.Create a StringUtil class with static methods is_palindrome(s) and reverse_string(s).\n",
    "class StringUtil:\n",
    "    @staticmethod\n",
    "    def is_palindrome(s):\n",
    "        return s==s[::-1]\n",
    "    @staticmethod\n",
    "    def reverse_string(s):\n",
    "        return s[::-1]\n",
    "print(StringUtil.is_palindrome(\"pop\"))\n",
    "print(StringUtil.reverse_string(\"string\"))\n",
    "        "
   ]
  },
  {
   "cell_type": "code",
   "execution_count": 33,
   "id": "5db70c46-5034-4f1e-91e3-aff9d4c444a6",
   "metadata": {},
   "outputs": [
    {
     "name": "stdout",
     "output_type": "stream",
     "text": [
      "12.566370614359172\n",
      "3.0\n"
     ]
    }
   ],
   "source": [
    "#4.Create a Geometry class with static methods area_circle(radius) and area_triangle(base, height).\n",
    "import math\n",
    "class Geometry:\n",
    "    @staticmethod\n",
    "    def area_circle(radius):\n",
    "        return math.pi*radius**2\n",
    "    @staticmethod\n",
    "    def area_triangle(base,height):\n",
    "        return 0.5*base*height\n",
    "print(Geometry.area_circle(2))\n",
    "print(Geometry.area_triangle(2,3))"
   ]
  },
  {
   "cell_type": "code",
   "execution_count": 6,
   "id": "749b169b-5ce0-4b80-92b0-37202637d596",
   "metadata": {},
   "outputs": [
    {
     "name": "stdout",
     "output_type": "stream",
     "text": [
      "False\n",
      "12\n"
     ]
    }
   ],
   "source": [
    "#5.Create a NumberUtils class with static methods is_prime(n) and gcd(a, b).\n",
    "class NumberUtils:\n",
    "    @staticmethod\n",
    "    def is_prime(n):\n",
    "        if n<=1:\n",
    "            return False\n",
    "        for i in range(2,int(n**0.5)+1):\n",
    "            if n%i==0:\n",
    "                return False\n",
    "        return True\n",
    "    @staticmethod\n",
    "    def gcd(a,b):\n",
    "        while b!=0:\n",
    "            a,b=b,a%b\n",
    "        return a\n",
    "print(NumberUtils.is_prime(12))\n",
    "print(NumberUtils.gcd(24,12))"
   ]
  }
 ],
 "metadata": {
  "kernelspec": {
   "display_name": "Python 3 (ipykernel)",
   "language": "python",
   "name": "python3"
  },
  "language_info": {
   "codemirror_mode": {
    "name": "ipython",
    "version": 3
   },
   "file_extension": ".py",
   "mimetype": "text/x-python",
   "name": "python",
   "nbconvert_exporter": "python",
   "pygments_lexer": "ipython3",
   "version": "3.13.5"
  }
 },
 "nbformat": 4,
 "nbformat_minor": 5
}
